{
 "metadata": {
  "name": "",
  "signature": "sha256:a73c16a15bd3e933ab97e3fa20103c584408ea7aac4a24db272645dfa2f55d74"
 },
 "nbformat": 3,
 "nbformat_minor": 0,
 "worksheets": [
  {
   "cells": [
    {
     "cell_type": "code",
     "collapsed": false,
     "input": [
      "%timeit\n",
      "import numpy as np"
     ],
     "language": "python",
     "metadata": {},
     "outputs": [],
     "prompt_number": 1
    },
    {
     "cell_type": "code",
     "collapsed": false,
     "input": [
      "arr = np.arange(1e7)"
     ],
     "language": "python",
     "metadata": {},
     "outputs": [],
     "prompt_number": 2
    },
    {
     "cell_type": "code",
     "collapsed": false,
     "input": [
      "larr = arr.tolist()"
     ],
     "language": "python",
     "metadata": {},
     "outputs": [],
     "prompt_number": 3
    },
    {
     "cell_type": "code",
     "collapsed": false,
     "input": [
      "# list by default does not support broadcasting.\n",
      "# Here we define a helper function to do broadcasting for list.\n",
      "def list_times(alist, scalar):\n",
      "    for i, val in enumerate(alist):\n",
      "        alist[i] = val * scalar\n",
      "    return alist"
     ],
     "language": "python",
     "metadata": {},
     "outputs": [],
     "prompt_number": 4
    },
    {
     "cell_type": "code",
     "collapsed": false,
     "input": [
      "# np.array support broadcast. (And faster than the helper function.)\n",
      "timeit arr * 1.1"
     ],
     "language": "python",
     "metadata": {},
     "outputs": [
      {
       "ename": "SyntaxError",
       "evalue": "invalid syntax (<ipython-input-5-67401cb7a16f>, line 2)",
       "output_type": "pyerr",
       "traceback": [
        "\u001b[0;36m  File \u001b[0;32m\"<ipython-input-5-67401cb7a16f>\"\u001b[0;36m, line \u001b[0;32m2\u001b[0m\n\u001b[0;31m    timeit arr * 1.1\u001b[0m\n\u001b[0m             ^\u001b[0m\n\u001b[0;31mSyntaxError\u001b[0m\u001b[0;31m:\u001b[0m invalid syntax\n"
       ]
      }
     ],
     "prompt_number": 5
    },
    {
     "cell_type": "code",
     "collapsed": false,
     "input": [
      "timeit list_times(larr, 1.1)"
     ],
     "language": "python",
     "metadata": {},
     "outputs": [
      {
       "output_type": "stream",
       "stream": "stdout",
       "text": [
        "1 loops, best of 3: 1.83 s per loop\n"
       ]
      }
     ],
     "prompt_number": 6
    },
    {
     "cell_type": "code",
     "collapsed": false,
     "input": [
      "# np.matrix can only handle 2-dim array.\n",
      "# This will give you an error\n",
      "arr = np.zeros((3, 3, 3))\n",
      "mat = np.matrix(arr)"
     ],
     "language": "python",
     "metadata": {},
     "outputs": [
      {
       "ename": "ValueError",
       "evalue": "shape too large to be a matrix.",
       "output_type": "pyerr",
       "traceback": [
        "\u001b[0;31m---------------------------------------------------------------------------\u001b[0m\n\u001b[0;31mValueError\u001b[0m                                Traceback (most recent call last)",
        "\u001b[0;32m<ipython-input-7-c8cf30a8869d>\u001b[0m in \u001b[0;36m<module>\u001b[0;34m()\u001b[0m\n\u001b[1;32m      2\u001b[0m \u001b[0;31m# This will give you an error\u001b[0m\u001b[0;34m\u001b[0m\u001b[0;34m\u001b[0m\u001b[0m\n\u001b[1;32m      3\u001b[0m \u001b[0marr\u001b[0m \u001b[0;34m=\u001b[0m \u001b[0mnp\u001b[0m\u001b[0;34m.\u001b[0m\u001b[0mzeros\u001b[0m\u001b[0;34m(\u001b[0m\u001b[0;34m(\u001b[0m\u001b[0;36m3\u001b[0m\u001b[0;34m,\u001b[0m \u001b[0;36m3\u001b[0m\u001b[0;34m,\u001b[0m \u001b[0;36m3\u001b[0m\u001b[0;34m)\u001b[0m\u001b[0;34m)\u001b[0m\u001b[0;34m\u001b[0m\u001b[0m\n\u001b[0;32m----> 4\u001b[0;31m \u001b[0mmat\u001b[0m \u001b[0;34m=\u001b[0m \u001b[0mnp\u001b[0m\u001b[0;34m.\u001b[0m\u001b[0mmatrix\u001b[0m\u001b[0;34m(\u001b[0m\u001b[0marr\u001b[0m\u001b[0;34m)\u001b[0m\u001b[0;34m\u001b[0m\u001b[0m\n\u001b[0m",
        "\u001b[0;32m/System/Library/Frameworks/Python.framework/Versions/2.7/Extras/lib/python/numpy/matrixlib/defmatrix.pyc\u001b[0m in \u001b[0;36m__new__\u001b[0;34m(subtype, data, dtype, copy)\u001b[0m\n\u001b[1;32m    245\u001b[0m             \u001b[0;32melse\u001b[0m\u001b[0;34m:\u001b[0m\u001b[0;34m\u001b[0m\u001b[0m\n\u001b[1;32m    246\u001b[0m                 \u001b[0mintype\u001b[0m \u001b[0;34m=\u001b[0m \u001b[0mN\u001b[0m\u001b[0;34m.\u001b[0m\u001b[0mdtype\u001b[0m\u001b[0;34m(\u001b[0m\u001b[0mdtype\u001b[0m\u001b[0;34m)\u001b[0m\u001b[0;34m\u001b[0m\u001b[0m\n\u001b[0;32m--> 247\u001b[0;31m             \u001b[0mnew\u001b[0m \u001b[0;34m=\u001b[0m \u001b[0mdata\u001b[0m\u001b[0;34m.\u001b[0m\u001b[0mview\u001b[0m\u001b[0;34m(\u001b[0m\u001b[0msubtype\u001b[0m\u001b[0;34m)\u001b[0m\u001b[0;34m\u001b[0m\u001b[0m\n\u001b[0m\u001b[1;32m    248\u001b[0m             \u001b[0;32mif\u001b[0m \u001b[0mintype\u001b[0m \u001b[0;34m!=\u001b[0m \u001b[0mdata\u001b[0m\u001b[0;34m.\u001b[0m\u001b[0mdtype\u001b[0m\u001b[0;34m:\u001b[0m\u001b[0;34m\u001b[0m\u001b[0m\n\u001b[1;32m    249\u001b[0m                 \u001b[0;32mreturn\u001b[0m \u001b[0mnew\u001b[0m\u001b[0;34m.\u001b[0m\u001b[0mastype\u001b[0m\u001b[0;34m(\u001b[0m\u001b[0mintype\u001b[0m\u001b[0;34m)\u001b[0m\u001b[0;34m\u001b[0m\u001b[0m\n",
        "\u001b[0;32m/System/Library/Frameworks/Python.framework/Versions/2.7/Extras/lib/python/numpy/matrixlib/defmatrix.pyc\u001b[0m in \u001b[0;36m__array_finalize__\u001b[0;34m(self, obj)\u001b[0m\n\u001b[1;32m    290\u001b[0m                 \u001b[0;32mreturn\u001b[0m\u001b[0;34m\u001b[0m\u001b[0m\n\u001b[1;32m    291\u001b[0m             \u001b[0;32melif\u001b[0m \u001b[0;34m(\u001b[0m\u001b[0mndim\u001b[0m \u001b[0;34m>\u001b[0m \u001b[0;36m2\u001b[0m\u001b[0;34m)\u001b[0m\u001b[0;34m:\u001b[0m\u001b[0;34m\u001b[0m\u001b[0m\n\u001b[0;32m--> 292\u001b[0;31m                 \u001b[0;32mraise\u001b[0m \u001b[0mValueError\u001b[0m\u001b[0;34m,\u001b[0m \u001b[0;34m\"shape too large to be a matrix.\"\u001b[0m\u001b[0;34m\u001b[0m\u001b[0m\n\u001b[0m\u001b[1;32m    293\u001b[0m         \u001b[0;32melse\u001b[0m\u001b[0;34m:\u001b[0m\u001b[0;34m\u001b[0m\u001b[0m\n\u001b[1;32m    294\u001b[0m             \u001b[0mnewshape\u001b[0m \u001b[0;34m=\u001b[0m \u001b[0mself\u001b[0m\u001b[0;34m.\u001b[0m\u001b[0mshape\u001b[0m\u001b[0;34m\u001b[0m\u001b[0m\n",
        "\u001b[0;31mValueError\u001b[0m: shape too large to be a matrix."
       ]
      }
     ],
     "prompt_number": 7
    },
    {
     "cell_type": "code",
     "collapsed": false,
     "input": [
      "# This will not.\n",
      "arr = np.zeros((3, 3))\n",
      "mat = np.matrix(arr)\n",
      "arr"
     ],
     "language": "python",
     "metadata": {},
     "outputs": []
    },
    {
     "cell_type": "code",
     "collapsed": false,
     "input": [
      "# Covert a list into np.array\n",
      "alist = [1, 2, 3]\n",
      "arr = np.array(alist)\n",
      "arr"
     ],
     "language": "python",
     "metadata": {},
     "outputs": []
    },
    {
     "cell_type": "code",
     "collapsed": false,
     "input": [
      "# Creating matrix with np.\n",
      "elements = [[1, 2, 3], [2, 2, 2], [3, 3, 3]]\n",
      "mat = np.matrix(elements)"
     ],
     "language": "python",
     "metadata": {},
     "outputs": []
    },
    {
     "cell_type": "code",
     "collapsed": false,
     "input": [
      "mat"
     ],
     "language": "python",
     "metadata": {},
     "outputs": []
    },
    {
     "cell_type": "code",
     "collapsed": false,
     "input": [
      "# zero array: 1-dim\n",
      "arr1 = np.zeros(5)\n",
      "print 'arr1\\n', arr1\n",
      "\n",
      "# zero array: 2-dim\n",
      "arr2 = np.zeros((2, 3))\n",
      "print 'arr2\\n', arr2\n",
      "\n",
      "# zero array: multi-dim\n",
      "arr3 = np.zeros((2, 2, 3))\n",
      "print 'arr3\\n', arr3"
     ],
     "language": "python",
     "metadata": {},
     "outputs": []
    },
    {
     "cell_type": "code",
     "collapsed": false,
     "input": [
      "# array range from 0 to 99\n",
      "arr_range = np.arange(100)\n",
      "print arr_range"
     ],
     "language": "python",
     "metadata": {},
     "outputs": []
    },
    {
     "cell_type": "code",
     "collapsed": false,
     "input": [
      "# array range from 10 to 99\n",
      "arr_range2 = np.arange(10, 100)\n",
      "print arr_range2"
     ],
     "language": "python",
     "metadata": {},
     "outputs": []
    },
    {
     "cell_type": "code",
     "collapsed": false,
     "input": [
      "# linespace in numpy: goes from 0 to 1 with 1000 steps\n",
      "linsp = np.linspace(0, 1, 1000)\n",
      "print linsp"
     ],
     "language": "python",
     "metadata": {},
     "outputs": []
    },
    {
     "cell_type": "code",
     "collapsed": false,
     "input": [
      "# log linspace: np.logspace(start, end, steps, base) \n",
      "# --> goes from base**start to base**end by 100 steps in log scale.\n",
      "linsp2 = np.logspace(0, 1, 100, base = 10.0)\n",
      "print linsp2"
     ],
     "language": "python",
     "metadata": {},
     "outputs": []
    },
    {
     "cell_type": "code",
     "collapsed": false,
     "input": [
      "# Change the data type of your np.array with astype() method.\n",
      "cube1 = np.zeros((5, 5)).astype(int)\n",
      "print cube1\n",
      "# Other option such as np.float16, np.float32 and np.float64(default).\n",
      "cube2 = np.zeros((5, 5)).astype(np.float64) + 1\n",
      "print cube2"
     ],
     "language": "python",
     "metadata": {},
     "outputs": []
    },
    {
     "cell_type": "code",
     "collapsed": false,
     "input": [
      "# Even simpler way to do the job above.\n",
      "cube1 = np.zeros(2, dtype = int)\n",
      "print cube1\n",
      "cube2 = np.zeros(2, dtype=np.float32)\n",
      "print cube2"
     ],
     "language": "python",
     "metadata": {},
     "outputs": []
    },
    {
     "cell_type": "code",
     "collapsed": false,
     "input": [
      "# Reshape an array to arbitrary shape (dimensions).\n",
      "cube = np.arange(100)\n",
      "reshaped_cube = cube.reshape((10, 10))\n",
      "print reshaped_cube"
     ],
     "language": "python",
     "metadata": {},
     "outputs": []
    },
    {
     "cell_type": "code",
     "collapsed": false,
     "input": [
      "# 4-D array by reshpae\n",
      "arr = np.arange(10000)\n",
      "arr2 = arr.reshape((10, 10, 10, 10))\n",
      "print arr2"
     ],
     "language": "python",
     "metadata": {},
     "outputs": []
    },
    {
     "cell_type": "code",
     "collapsed": false,
     "input": [
      "# ravel will return an flatten 1-D array \n",
      "print arr2.ravel()"
     ],
     "language": "python",
     "metadata": {},
     "outputs": []
    },
    {
     "cell_type": "code",
     "collapsed": false,
     "input": [
      "# Difference between .flat-->(attributes) and .flatten --> (method).\n",
      "arr = np.array([1, 2, 3, 4])\n",
      "arr = arr.reshape((2, 2))\n",
      "print 'original arr:\\n', arr\n",
      "\n",
      "# You can use .flat to change the value of elements in an array.\n",
      "arr[1] = 10\n",
      "print 'assign arr[1] to 10:\\n', arr\n",
      "\n",
      "arr = np.array([1, 2, 3, 4])\n",
      "arr = arr.reshape((2, 2))\n",
      "arr.flat[1] = 10\n",
      "print 'arr.flat[1] (Notice the differnce with arr[1] = 10 above):\\n', arr\n",
      "\n",
      "arr.flat[[0, 2]] = 33\n",
      "print 'arr.flat[[0, 2]] = 33:\\n', arr\n",
      "\n",
      "# .flatten will return a 1-D copied array from an np.array object.\n",
      "arr2 = arr.flatten()\n",
      "print 'arr.flatten():\\n', arr2"
     ],
     "language": "python",
     "metadata": {},
     "outputs": [
      {
       "output_type": "stream",
       "stream": "stdout",
       "text": [
        "original arr:\n",
        "[[1 2]\n",
        " [3 4]]\n",
        "assign arr[1] to 10:\n",
        "[[ 1  2]\n",
        " [10 10]]\n",
        "arr.flat[1] (Notice the differnce with arr[1] = 10 above):\n",
        "[[ 1 10]\n",
        " [ 3  4]]\n",
        "arr.flat[[0, 2]] = 33:\n",
        "[[33 10]\n",
        " [33  4]]\n",
        "arr.flatten():\n",
        "[33 10 33  4]\n"
       ]
      }
     ],
     "prompt_number": 8
    },
    {
     "cell_type": "code",
     "collapsed": false,
     "input": [
      "# One thing keep in mind is that above arrays are just different views of \"the same\" data\n",
      "# in the memory. See example below.\n",
      "arr = np.array([1, 2, 3, 4])\n",
      "arr2 = arr.reshape((2, 2))\n",
      "print 'origin arr2:\\n', arr2\n",
      "\n",
      "arr.flat[0] = 0\n",
      "print 'The modification to arr will affect arr2:\\n', arr2"
     ],
     "language": "python",
     "metadata": {},
     "outputs": [
      {
       "output_type": "stream",
       "stream": "stdout",
       "text": [
        "origin arr2:\n",
        "[[1 2]\n",
        " [3 4]]\n",
        "The modification to arr will affect arr2:\n",
        "[[0 2]\n",
        " [3 4]]\n"
       ]
      }
     ],
     "prompt_number": 9
    },
    {
     "cell_type": "code",
     "collapsed": false,
     "input": [
      "# You can use np.copy function to prevent such things.\n",
      "arr = np.array([1, 2, 3, 4])\n",
      "arr3 = np.copy(arr)\n",
      "arr.flat[0] = 4\n",
      "print 'arr:\\n', arr\n",
      "print 'arr3:\\n', arr3"
     ],
     "language": "python",
     "metadata": {},
     "outputs": [
      {
       "output_type": "stream",
       "stream": "stdout",
       "text": [
        "arr:\n",
        "[4 2 3 4]\n",
        "arr3:\n",
        "[1 2 3 4]\n"
       ]
      }
     ],
     "prompt_number": 10
    },
    {
     "cell_type": "code",
     "collapsed": false,
     "input": [
      "# Using np.array to store data with different data types.\n",
      "# test now is an 2x2 array where each entity of test is of \n",
      "# '32-bits int'(i4), '32-bits float'(f4) and 'string of length 5'(a5).\n",
      "test = np.zeros((2,2), dtype=('i4, f4, a5'))\n",
      "test"
     ],
     "language": "python",
     "metadata": {},
     "outputs": [
      {
       "metadata": {},
       "output_type": "pyout",
       "prompt_number": 11,
       "text": [
        "array([[(0, 0.0, ''), (0, 0.0, '')],\n",
        "       [(0, 0.0, ''), (0, 0.0, '')]], \n",
        "      dtype=[('f0', '<i4'), ('f1', '<f4'), ('f2', '|S5')])"
       ]
      }
     ],
     "prompt_number": 11
    },
    {
     "cell_type": "code",
     "collapsed": false,
     "input": [
      "# Since we assign 'a5' to the third element of each entity of test, any string \n",
      "# length over 5 will be truncated.\n",
      "# See example below:\n",
      "test[1,1][2] = 'abcdefg'\n",
      "print 'Only \"abcde\" is stored into test rather than \"abcdefg\".'\n",
      "test"
     ],
     "language": "python",
     "metadata": {},
     "outputs": [
      {
       "output_type": "stream",
       "stream": "stdout",
       "text": [
        "Only \"abcde\" is stored into test rather than \"abcdefg\".\n"
       ]
      },
      {
       "metadata": {},
       "output_type": "pyout",
       "prompt_number": 12,
       "text": [
        "array([[(0, 0.0, ''), (0, 0.0, '')],\n",
        "       [(0, 0.0, ''), (0, 0.0, 'abcde')]], \n",
        "      dtype=[('f0', '<i4'), ('f1', '<f4'), ('f2', '|S5')])"
       ]
      }
     ],
     "prompt_number": 12
    },
    {
     "cell_type": "code",
     "collapsed": false,
     "input": [
      "# One interesting example:\n",
      "recarr = np.zeros((2, 3), dtype=('i4, f4'))\n",
      "print 'recarr:\\n', recarr\n",
      "recarr2 = np.zeros((2, 3), dtype=('i4, f4, a10'))\n",
      "print 'recarr2:\\n', recarr2\n",
      "recarr3 = np.zeros((2, ), dtype=('i4, f4, a10'))\n",
      "print 'recarr3:\\n', recarr3"
     ],
     "language": "python",
     "metadata": {},
     "outputs": [
      {
       "output_type": "stream",
       "stream": "stdout",
       "text": [
        "recarr:\n",
        "[[(0, 0.0) (0, 0.0) (0, 0.0)]\n",
        " [(0, 0.0) (0, 0.0) (0, 0.0)]]\n",
        "recarr2:\n",
        "[[(0, 0.0, '') (0, 0.0, '') (0, 0.0, '')]\n",
        " [(0, 0.0, '') (0, 0.0, '') (0, 0.0, '')]]\n",
        "recarr3:\n",
        "[(0, 0.0, '') (0, 0.0, '')]\n"
       ]
      }
     ],
     "prompt_number": 13
    },
    {
     "cell_type": "code",
     "collapsed": false,
     "input": [
      "recarr = np.zeros((2, ), dtype='i4, f4, a10')\n",
      "recarr"
     ],
     "language": "python",
     "metadata": {},
     "outputs": [
      {
       "metadata": {},
       "output_type": "pyout",
       "prompt_number": 14,
       "text": [
        "array([(0, 0.0, ''), (0, 0.0, '')], \n",
        "      dtype=[('f0', '<i4'), ('f1', '<f4'), ('f2', '|S10')])"
       ]
      }
     ],
     "prompt_number": 14
    },
    {
     "cell_type": "code",
     "collapsed": false,
     "input": [
      "col1 = np.arange(2) + 1\n",
      "col2 = np.arange(2, dtype = np.float32)\n",
      "col3 = ['Hello', 'World']"
     ],
     "language": "python",
     "metadata": {},
     "outputs": [],
     "prompt_number": 15
    },
    {
     "cell_type": "code",
     "collapsed": false,
     "input": [
      "# zip: build-in matching function.\n",
      "toadd = zip(col1, col2, col3)\n",
      "toadd"
     ],
     "language": "python",
     "metadata": {},
     "outputs": [
      {
       "metadata": {},
       "output_type": "pyout",
       "prompt_number": 16,
       "text": [
        "[(1, 0.0, 'Hello'), (2, 1.0, 'World')]"
       ]
      }
     ],
     "prompt_number": 16
    },
    {
     "cell_type": "code",
     "collapsed": false,
     "input": [
      "recarr[:] = toadd\n",
      "recarr"
     ],
     "language": "python",
     "metadata": {},
     "outputs": [
      {
       "metadata": {},
       "output_type": "pyout",
       "prompt_number": 17,
       "text": [
        "array([(1, 0.0, 'Hello'), (2, 1.0, 'World')], \n",
        "      dtype=[('f0', '<i4'), ('f1', '<f4'), ('f2', '|S10')])"
       ]
      }
     ],
     "prompt_number": 17
    },
    {
     "cell_type": "code",
     "collapsed": false,
     "input": [
      "# From above examples, we can see that the colnames for each column \n",
      "# are 'f0', 'f1', 'f2', ..., etc. We can change the colnames by flowing:\n",
      "recarr.dtype.names = ('Integers', 'Floats', 'Strings')\n",
      "recarr"
     ],
     "language": "python",
     "metadata": {},
     "outputs": [
      {
       "metadata": {},
       "output_type": "pyout",
       "prompt_number": 18,
       "text": [
        "array([(1, 0.0, 'Hello'), (2, 1.0, 'World')], \n",
        "      dtype=[('Integers', '<i4'), ('Floats', '<f4'), ('Strings', '|S10')])"
       ]
      }
     ],
     "prompt_number": 18
    },
    {
     "cell_type": "code",
     "collapsed": false,
     "input": [
      "# Reference by names:\n",
      "print 'recarr[\"Integers\"]:\\n', recarr['Integers']\n",
      "print\n",
      "print 'recarr[\"Integers\"][0]:\\n', recarr['Integers'][0]"
     ],
     "language": "python",
     "metadata": {},
     "outputs": [
      {
       "output_type": "stream",
       "stream": "stdout",
       "text": [
        "recarr[\"Integers\"]:\n",
        "[1 2]\n",
        "\n",
        "recarr[\"Integers\"][0]:\n",
        "1\n"
       ]
      }
     ],
     "prompt_number": 19
    },
    {
     "cell_type": "code",
     "collapsed": false,
     "input": [
      "x = np.zeros(2, dtype=('i4, f4, a10'))\n",
      "x[0] = (1, 1, 'H')\n",
      "x[1] = (10.0, 10, 10)\n",
      "print x"
     ],
     "language": "python",
     "metadata": {},
     "outputs": [
      {
       "output_type": "stream",
       "stream": "stdout",
       "text": [
        "[(1, 1.0, 'H') (10, 10.0, '10')]\n"
       ]
      }
     ],
     "prompt_number": 20
    },
    {
     "cell_type": "code",
     "collapsed": false,
     "input": [
      "# Again, be aware of the fact that python's pointer.\n",
      "y = x['f1']\n",
      "y *= 2\n",
      "print x"
     ],
     "language": "python",
     "metadata": {},
     "outputs": [
      {
       "output_type": "stream",
       "stream": "stdout",
       "text": [
        "[(1, 2.0, 'H') (10, 20.0, '10')]\n"
       ]
      }
     ],
     "prompt_number": 21
    },
    {
     "cell_type": "code",
     "collapsed": false,
     "input": [
      "x = np.zeros(3, dtype='3int8, float32, (2,3)float64')\n",
      "x"
     ],
     "language": "python",
     "metadata": {},
     "outputs": [
      {
       "metadata": {},
       "output_type": "pyout",
       "prompt_number": 22,
       "text": [
        "array([([0, 0, 0], 0.0, [[0.0, 0.0, 0.0], [0.0, 0.0, 0.0]]),\n",
        "       ([0, 0, 0], 0.0, [[0.0, 0.0, 0.0], [0.0, 0.0, 0.0]]),\n",
        "       ([0, 0, 0], 0.0, [[0.0, 0.0, 0.0], [0.0, 0.0, 0.0]])], \n",
        "      dtype=[('f0', '|i1', (3,)), ('f1', '<f4'), ('f2', '<f8', (2, 3))])"
       ]
      }
     ],
     "prompt_number": 22
    },
    {
     "cell_type": "code",
     "collapsed": false,
     "input": [
      "x1 = np.zeros((3, 2), dtype=[('x','f4'),('y',np.float32),('value','f4',(2,2))])\n",
      "print 'x1:\\n', x1\n",
      "x2 = np.zeros((2, 3), dtype=[('x','f4'),('y',np.float32),('value','f4',(2,2))])\n",
      "print 'x2:\\n', x2"
     ],
     "language": "python",
     "metadata": {},
     "outputs": [
      {
       "output_type": "stream",
       "stream": "stdout",
       "text": [
        "x1:\n",
        "[[(0.0, 0.0, [[0.0, 0.0], [0.0, 0.0]]) (0.0, 0.0, [[0.0, 0.0], [0.0, 0.0]])]\n",
        " [(0.0, 0.0, [[0.0, 0.0], [0.0, 0.0]]) (0.0, 0.0, [[0.0, 0.0], [0.0, 0.0]])]\n",
        " [(0.0, 0.0, [[0.0, 0.0], [0.0, 0.0]]) (0.0, 0.0, [[0.0, 0.0], [0.0, 0.0]])]]\n",
        "x2:\n",
        "[[(0.0, 0.0, [[0.0, 0.0], [0.0, 0.0]]) (0.0, 0.0, [[0.0, 0.0], [0.0, 0.0]])\n",
        "  (0.0, 0.0, [[0.0, 0.0], [0.0, 0.0]])]\n",
        " [(0.0, 0.0, [[0.0, 0.0], [0.0, 0.0]]) (0.0, 0.0, [[0.0, 0.0], [0.0, 0.0]])\n",
        "  (0.0, 0.0, [[0.0, 0.0], [0.0, 0.0]])]]\n"
       ]
      }
     ],
     "prompt_number": 23
    },
    {
     "cell_type": "code",
     "collapsed": false,
     "input": [
      "# dtype as list.\n",
      "# dtype = [('Var1name', 'V1type', (dim1, dim2, ...)), ...]\n",
      "x = np.zeros(3, dtype=[('x','f4'),('y',np.float32),('value','f4',(2,2,2))])\n",
      "x"
     ],
     "language": "python",
     "metadata": {},
     "outputs": [
      {
       "metadata": {},
       "output_type": "pyout",
       "prompt_number": 24,
       "text": [
        "array([(0.0, 0.0, [[[0.0, 0.0], [0.0, 0.0]], [[0.0, 0.0], [0.0, 0.0]]]),\n",
        "       (0.0, 0.0, [[[0.0, 0.0], [0.0, 0.0]], [[0.0, 0.0], [0.0, 0.0]]]),\n",
        "       (0.0, 0.0, [[[0.0, 0.0], [0.0, 0.0]], [[0.0, 0.0], [0.0, 0.0]]])], \n",
        "      dtype=[('x', '<f4'), ('y', '<f4'), ('value', '<f4', (2, 2, 2))])"
       ]
      }
     ],
     "prompt_number": 24
    },
    {
     "cell_type": "code",
     "collapsed": false,
     "input": [
      "# dtype as dictionary.\n",
      "# dtype = {'names':[colname1, colname2, ...], 'formats':['format1', 'format2', ...]}\n",
      "y = np.zeros((3, 2), dtype = {'names':['x', 'y'], 'formats':['(2,2)f4', 'i4']})\n",
      "print y[0, 0]['x']"
     ],
     "language": "python",
     "metadata": {},
     "outputs": [
      {
       "output_type": "stream",
       "stream": "stdout",
       "text": [
        "[[ 0.  0.]\n",
        " [ 0.  0.]]\n"
       ]
      }
     ],
     "prompt_number": 25
    },
    {
     "cell_type": "code",
     "collapsed": false,
     "input": [
      "y.dtype.fields"
     ],
     "language": "python",
     "metadata": {},
     "outputs": [
      {
       "metadata": {},
       "output_type": "pyout",
       "prompt_number": 26,
       "text": [
        "<dictproxy {'x': (dtype(('float32',(2, 2))), 0), 'y': (dtype('int32'), 16)}>"
       ]
      }
     ],
     "prompt_number": 26
    },
    {
     "cell_type": "code",
     "collapsed": false,
     "input": [],
     "language": "python",
     "metadata": {},
     "outputs": []
    },
    {
     "cell_type": "code",
     "collapsed": false,
     "input": [
      "# Indexing:\n",
      "alist = [[1, 2], [3, 4]]\n",
      "arr = np.array(alist)\n",
      "print 'arr:\\n', arr"
     ],
     "language": "python",
     "metadata": {},
     "outputs": [
      {
       "output_type": "stream",
       "stream": "stdout",
       "text": [
        "arr:\n",
        "[[1 2]\n",
        " [3 4]]\n"
       ]
      }
     ],
     "prompt_number": 123
    },
    {
     "cell_type": "code",
     "collapsed": false,
     "input": [
      "arr[0, 1]"
     ],
     "language": "python",
     "metadata": {},
     "outputs": [
      {
       "metadata": {},
       "output_type": "pyout",
       "prompt_number": 124,
       "text": [
        "2"
       ]
      }
     ],
     "prompt_number": 124
    },
    {
     "cell_type": "code",
     "collapsed": false,
     "input": [
      "arr[:,1]"
     ],
     "language": "python",
     "metadata": {},
     "outputs": [
      {
       "metadata": {},
       "output_type": "pyout",
       "prompt_number": 125,
       "text": [
        "array([2, 4])"
       ]
      }
     ],
     "prompt_number": 125
    },
    {
     "cell_type": "code",
     "collapsed": false,
     "input": [
      "arr[1,:]"
     ],
     "language": "python",
     "metadata": {},
     "outputs": [
      {
       "metadata": {},
       "output_type": "pyout",
       "prompt_number": 126,
       "text": [
        "array([3, 4])"
       ]
      }
     ],
     "prompt_number": 126
    },
    {
     "cell_type": "code",
     "collapsed": false,
     "input": [
      "# np.where(): its function is just like which() in R.\n",
      "arr = np.arange(10, 16)\n",
      "ind = np.where(arr > 13)\n",
      "ind2 = arr > 13\n",
      "print 'ind:\\n', ind\n",
      "print 'ind2:\\n', ind2"
     ],
     "language": "python",
     "metadata": {},
     "outputs": [
      {
       "output_type": "stream",
       "stream": "stdout",
       "text": [
        "ind:\n",
        "(array([4, 5]),)\n",
        "ind2:\n",
        "[False False False False  True  True]\n"
       ]
      }
     ],
     "prompt_number": 146
    },
    {
     "cell_type": "code",
     "collapsed": false,
     "input": [
      "new_arr1 = arr[ind]\n",
      "print 'new_arr1:\\n', new_arr1\n",
      "new_arr2 = arr[ind2]\n",
      "print 'new_arr2:\\n', new_arr2"
     ],
     "language": "python",
     "metadata": {},
     "outputs": [
      {
       "output_type": "stream",
       "stream": "stdout",
       "text": [
        "new_arr1:\n",
        "[14 15]\n",
        "new_arr2:\n",
        "[14 15]\n"
       ]
      }
     ],
     "prompt_number": 147
    },
    {
     "cell_type": "code",
     "collapsed": false,
     "input": [
      "# np.delete(who, where):\n",
      "new_arr = np.delete(arr, ind)\n",
      "new_arr"
     ],
     "language": "python",
     "metadata": {},
     "outputs": [
      {
       "metadata": {},
       "output_type": "pyout",
       "prompt_number": 144,
       "text": [
        "array([10, 11, 12, 13])"
       ]
      }
     ],
     "prompt_number": 144
    },
    {
     "cell_type": "code",
     "collapsed": false,
     "input": [],
     "language": "python",
     "metadata": {},
     "outputs": []
    },
    {
     "cell_type": "code",
     "collapsed": false,
     "input": [
      "%matplotlib inline\n",
      "import matplotlib.pyplot as plt"
     ],
     "language": "python",
     "metadata": {},
     "outputs": [],
     "prompt_number": 33
    },
    {
     "cell_type": "code",
     "collapsed": false,
     "input": [
      "img1 = np.zeros((20, 20)) + 3\n",
      "img1[4:-4, 4:-4] = 6\n",
      "img1[7:-7, 7:-7] = 9"
     ],
     "language": "python",
     "metadata": {},
     "outputs": [],
     "prompt_number": 58
    },
    {
     "cell_type": "code",
     "collapsed": false,
     "input": [
      "imgplot1 = plt.imshow(img1)"
     ],
     "language": "python",
     "metadata": {},
     "outputs": [
      {
       "metadata": {},
       "output_type": "display_data",
       "png": "[encoded data removed]",
       "text": [
        "<matplotlib.figure.Figure at 0x10d2a2bd0>"
       ]
      }
     ],
     "prompt_number": 59
    },
    {
     "cell_type": "code",
     "collapsed": false,
     "input": [
      "compound_ind = (img1 > 3) & (img1 < 7)\n",
      "img2 = np.copy(img1)\n",
      "img2[compound_ind] = 0\n",
      "imgplot2 = plt.imshow(img2)"
     ],
     "language": "python",
     "metadata": {},
     "outputs": [
      {
       "metadata": {},
       "output_type": "display_data",
       "png": "[encoded data removed]",
       "text": [
        "<matplotlib.figure.Figure at 0x10d39db10>"
       ]
      }
     ],
     "prompt_number": 51
    },
    {
     "cell_type": "code",
     "collapsed": false,
     "input": [
      "index1 = img1 > 3\n",
      "index2 = img1 < 7\n",
      "index3 = img1 == 9\n",
      "compound_ind2 = (index1 | index2) & index3\n",
      "img3 = np.copy(img1)\n",
      "img3[compound_ind2] = 0\n",
      "imgplot3 = plt.imshow(img3)"
     ],
     "language": "python",
     "metadata": {},
     "outputs": [
      {
       "metadata": {},
       "output_type": "display_data",
       "png": "[encoded data removed]",
       "text": [
        "<matplotlib.figure.Figure at 0x102b82110>"
       ]
      }
     ],
     "prompt_number": 61
    },
    {
     "cell_type": "code",
     "collapsed": false,
     "input": [],
     "language": "python",
     "metadata": {},
     "outputs": []
    }
   ],
   "metadata": {}
  }
 ]
}