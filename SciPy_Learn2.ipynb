{
 "metadata": {
  "name": "",
  "signature": "sha256:1a10f2c1716d0f8a16207093aabe6f9ff257840d4cebaffac9f8ae8222eb11d9"
 },
 "nbformat": 3,
 "nbformat_minor": 0,
 "worksheets": [
  {
   "cells": [
    {
     "cell_type": "code",
     "collapsed": false,
     "input": [
      "%matplotlib inline"
     ],
     "language": "python",
     "metadata": {},
     "outputs": [],
     "prompt_number": 15
    },
    {
     "cell_type": "markdown",
     "metadata": {},
     "source": [
      "## Curve Fitting"
     ]
    },
    {
     "cell_type": "code",
     "collapsed": false,
     "input": [
      "import numpy as np\n",
      "from scipy.optimize import curve_fit"
     ],
     "language": "python",
     "metadata": {},
     "outputs": [],
     "prompt_number": 17
    },
    {
     "cell_type": "code",
     "collapsed": false,
     "input": [
      "import matplotlib.pyplot as plt"
     ],
     "language": "python",
     "metadata": {},
     "outputs": [],
     "prompt_number": 18
    },
    {
     "cell_type": "code",
     "collapsed": false,
     "input": [
      "def func(x, a, b):\n",
      "    return a * x + b"
     ],
     "language": "python",
     "metadata": {},
     "outputs": [],
     "prompt_number": 19
    },
    {
     "cell_type": "code",
     "collapsed": false,
     "input": [
      "x = np.linspace(0, 10, 100)\n",
      "y = func(x, 1, 2)"
     ],
     "language": "python",
     "metadata": {},
     "outputs": [],
     "prompt_number": 35
    },
    {
     "cell_type": "code",
     "collapsed": false,
     "input": [
      "yn = y + 2 * np.random.normal(size=len(x))"
     ],
     "language": "python",
     "metadata": {},
     "outputs": [],
     "prompt_number": 36
    },
    {
     "cell_type": "code",
     "collapsed": false,
     "input": [
      "print curve_fit.__doc__"
     ],
     "language": "python",
     "metadata": {},
     "outputs": [
      {
       "output_type": "stream",
       "stream": "stdout",
       "text": [
        "\n",
        "    Use non-linear least squares to fit a function, f, to data.\n",
        "\n",
        "    Assumes ``ydata = f(xdata, *params) + eps``\n",
        "\n",
        "    Parameters\n",
        "    ----------\n",
        "    f : callable\n",
        "        The model function, f(x, ...).  It must take the independent\n",
        "        variable as the first argument and the parameters to fit as\n",
        "        separate remaining arguments.\n",
        "    xdata : An M-length sequence or an (k,M)-shaped array\n",
        "        for functions with k predictors.\n",
        "        The independent variable where the data is measured.\n",
        "    ydata : M-length sequence\n",
        "        The dependent data --- nominally f(xdata, ...)\n",
        "    p0 : None, scalar, or N-length sequence\n",
        "        Initial guess for the parameters.  If None, then the initial\n",
        "        values will all be 1 (if the number of parameters for the function\n",
        "        can be determined using introspection, otherwise a ValueError\n",
        "        is raised).\n",
        "    sigma : None or M-length sequence, optional\n",
        "        If not None, these values are used as weights in the\n",
        "        least-squares problem.\n",
        "    absolute_sigma : bool, optional\n",
        "        If False, `sigma` denotes relative weights of the data points.\n",
        "        The returned covariance matrix `pcov` is based on *estimated*\n",
        "        errors in the data, and is not affected by the overall\n",
        "        magnitude of the values in `sigma`. Only the relative\n",
        "        magnitudes of the `sigma` values matter.\n",
        "\n",
        "        If True, `sigma` describes one standard deviation errors of\n",
        "        the input data points. The estimated covariance in `pcov` is\n",
        "        based on these values.\n",
        "\n",
        "    Returns\n",
        "    -------\n",
        "    popt : array\n",
        "        Optimal values for the parameters so that the sum of the squared error\n",
        "        of ``f(xdata, *popt) - ydata`` is minimized\n",
        "    pcov : 2d array\n",
        "        The estimated covariance of popt. The diagonals provide the variance\n",
        "        of the parameter estimate. To compute one standard deviation errors\n",
        "        on the parameters use ``perr = np.sqrt(np.diag(pcov))``.\n",
        "\n",
        "        How the `sigma` parameter affects the estimated covariance\n",
        "        depends on `absolute_sigma` argument, as described above.\n",
        "\n",
        "    See Also\n",
        "    --------\n",
        "    leastsq\n",
        "\n",
        "    Notes\n",
        "    -----\n",
        "    The algorithm uses the Levenberg-Marquardt algorithm through `leastsq`.\n",
        "    Additional keyword arguments are passed directly to that algorithm.\n",
        "\n",
        "    Examples\n",
        "    --------\n",
        "    >>> import numpy as np\n",
        "    >>> from scipy.optimize import curve_fit\n",
        "    >>> def func(x, a, b, c):\n",
        "    ...     return a * np.exp(-b * x) + c\n",
        "\n",
        "    >>> xdata = np.linspace(0, 4, 50)\n",
        "    >>> y = func(xdata, 2.5, 1.3, 0.5)\n",
        "    >>> ydata = y + 0.2 * np.random.normal(size=len(xdata))\n",
        "\n",
        "    >>> popt, pcov = curve_fit(func, xdata, ydata)\n",
        "\n",
        "    \n"
       ]
      }
     ],
     "prompt_number": 37
    },
    {
     "cell_type": "code",
     "collapsed": false,
     "input": [
      "popt, pcov = curve_fit(func, x, yn)"
     ],
     "language": "python",
     "metadata": {},
     "outputs": [],
     "prompt_number": 38
    },
    {
     "cell_type": "code",
     "collapsed": false,
     "input": [
      "popt"
     ],
     "language": "python",
     "metadata": {},
     "outputs": [
      {
       "metadata": {},
       "output_type": "pyout",
       "prompt_number": 39,
       "text": [
        "array([ 1.05473697,  1.86758014])"
       ]
      }
     ],
     "prompt_number": 39
    },
    {
     "cell_type": "code",
     "collapsed": false,
     "input": [
      "pcov"
     ],
     "language": "python",
     "metadata": {},
     "outputs": [
      {
       "metadata": {},
       "output_type": "pyout",
       "prompt_number": 40,
       "text": [
        "array([[ 0.00579929, -0.02899645],\n",
        "       [-0.02899645,  0.19428595]])"
       ]
      }
     ],
     "prompt_number": 40
    },
    {
     "cell_type": "code",
     "collapsed": false,
     "input": [
      "fig = plt.figure(figsize=(10, 6))\n",
      "ax = fig.add_subplot(111)\n",
      "ax.scatter(x, yn, label=\"Noise Data\")\n",
      "ax.plot(x, func(x,popt[0], popt[1]), color=\"red\", label=\"Fitted Line\")\n",
      "ax.plot(x, y, color=\"green\", label=\"True Function\")\n",
      "ax.legend(loc=2)"
     ],
     "language": "python",
     "metadata": {},
     "outputs": [
      {
       "metadata": {},
       "output_type": "pyout",
       "prompt_number": 50,
       "text": [
        "<matplotlib.legend.Legend at 0x10b4c7550>"
       ]
      },
      {
       "metadata": {},
       "output_type": "display_data",
       "png": "[encoded data removed]",
       "text": [
        "<matplotlib.figure.Figure at 0x10abe7750>"
       ]
      }
     ],
     "prompt_number": 50
    },
    {
     "cell_type": "markdown",
     "metadata": {},
     "source": [
      "## Solve Function"
     ]
    },
    {
     "cell_type": "code",
     "collapsed": false,
     "input": [],
     "language": "python",
     "metadata": {},
     "outputs": []
    },
    {
     "cell_type": "code",
     "collapsed": false,
     "input": [
      "from scipy.optimize import fsolve"
     ],
     "language": "python",
     "metadata": {},
     "outputs": [],
     "prompt_number": 51
    },
    {
     "cell_type": "code",
     "collapsed": false,
     "input": [
      "print fsolve.__doc__"
     ],
     "language": "python",
     "metadata": {},
     "outputs": [
      {
       "output_type": "stream",
       "stream": "stdout",
       "text": [
        "\n",
        "    Find the roots of a function.\n",
        "\n",
        "    Return the roots of the (non-linear) equations defined by\n",
        "    ``func(x) = 0`` given a starting estimate.\n",
        "\n",
        "    Parameters\n",
        "    ----------\n",
        "    func : callable ``f(x, *args)``\n",
        "        A function that takes at least one (possibly vector) argument.\n",
        "    x0 : ndarray\n",
        "        The starting estimate for the roots of ``func(x) = 0``.\n",
        "    args : tuple, optional\n",
        "        Any extra arguments to `func`.\n",
        "    fprime : callable(x), optional\n",
        "        A function to compute the Jacobian of `func` with derivatives\n",
        "        across the rows. By default, the Jacobian will be estimated.\n",
        "    full_output : bool, optional\n",
        "        If True, return optional outputs.\n",
        "    col_deriv : bool, optional\n",
        "        Specify whether the Jacobian function computes derivatives down\n",
        "        the columns (faster, because there is no transpose operation).\n",
        "    xtol : float\n",
        "        The calculation will terminate if the relative error between two\n",
        "        consecutive iterates is at most `xtol`.\n",
        "    maxfev : int, optional\n",
        "        The maximum number of calls to the function. If zero, then\n",
        "        ``100*(N+1)`` is the maximum where N is the number of elements\n",
        "        in `x0`.\n",
        "    band : tuple, optional\n",
        "        If set to a two-sequence containing the number of sub- and\n",
        "        super-diagonals within the band of the Jacobi matrix, the\n",
        "        Jacobi matrix is considered banded (only for ``fprime=None``).\n",
        "    epsfcn : float, optional\n",
        "        A suitable step length for the forward-difference\n",
        "        approximation of the Jacobian (for ``fprime=None``). If\n",
        "        `epsfcn` is less than the machine precision, it is assumed\n",
        "        that the relative errors in the functions are of the order of\n",
        "        the machine precision.\n",
        "    factor : float, optional\n",
        "        A parameter determining the initial step bound\n",
        "        (``factor * || diag * x||``).  Should be in the interval\n",
        "        ``(0.1, 100)``.\n",
        "    diag : sequence, optional\n",
        "        N positive entries that serve as a scale factors for the\n",
        "        variables.\n",
        "\n",
        "    Returns\n",
        "    -------\n",
        "    x : ndarray\n",
        "        The solution (or the result of the last iteration for\n",
        "        an unsuccessful call).\n",
        "    infodict : dict\n",
        "        A dictionary of optional outputs with the keys:\n",
        "\n",
        "        ``nfev``\n",
        "            number of function calls\n",
        "        ``njev``\n",
        "            number of Jacobian calls\n",
        "        ``fvec``\n",
        "            function evaluated at the output\n",
        "        ``fjac``\n",
        "            the orthogonal matrix, q, produced by the QR\n",
        "            factorization of the final approximate Jacobian\n",
        "            matrix, stored column wise\n",
        "        ``r``\n",
        "            upper triangular matrix produced by QR factorization\n",
        "            of the same matrix\n",
        "        ``qtf``\n",
        "            the vector ``(transpose(q) * fvec)``\n",
        "\n",
        "    ier : int\n",
        "        An integer flag.  Set to 1 if a solution was found, otherwise refer\n",
        "        to `mesg` for more information.\n",
        "    mesg : str\n",
        "        If no solution is found, `mesg` details the cause of failure.\n",
        "\n",
        "    See Also\n",
        "    --------\n",
        "    root : Interface to root finding algorithms for multivariate\n",
        "    functions. See the 'hybr' `method` in particular.\n",
        "\n",
        "    Notes\n",
        "    -----\n",
        "    ``fsolve`` is a wrapper around MINPACK's hybrd and hybrj algorithms.\n",
        "\n",
        "    \n"
       ]
      }
     ],
     "prompt_number": 52
    },
    {
     "cell_type": "code",
     "collapsed": false,
     "input": [
      "line = lambda x: x + 3\n",
      "\n",
      "solution = fsolve(line, -2)\n",
      "print solution"
     ],
     "language": "python",
     "metadata": {},
     "outputs": [
      {
       "output_type": "stream",
       "stream": "stdout",
       "text": [
        "[-3.]\n"
       ]
      }
     ],
     "prompt_number": 54
    },
    {
     "cell_type": "code",
     "collapsed": false,
     "input": [
      "def findIntersection(func1, func2, x0):\n",
      "    return fsolve(lambda x: func1(x) - func2(x), x0)"
     ],
     "language": "python",
     "metadata": {},
     "outputs": [],
     "prompt_number": 55
    },
    {
     "cell_type": "code",
     "collapsed": false,
     "input": [
      "funky = lambda x: np.cos(x / 5.0) * np.sin(x/2.0)\n",
      "line = lambda x: 0.01 * x - 0.5"
     ],
     "language": "python",
     "metadata": {},
     "outputs": [],
     "prompt_number": 56
    },
    {
     "cell_type": "code",
     "collapsed": false,
     "input": [
      "x = np.linspace(0, 45, 10000)\n",
      "roots = findIntersection(funky, line, [15, 20, 30, 35, 40, 45])"
     ],
     "language": "python",
     "metadata": {},
     "outputs": [],
     "prompt_number": 60
    },
    {
     "cell_type": "code",
     "collapsed": false,
     "input": [
      "fig = plt.figure(figsize=(10, 6))\n",
      "\n",
      "ax = fig.add_subplot(111)\n",
      "\n",
      "line1 = ax.plot(x, funky(x), label=\"Funky function\")\n",
      "line2 = ax.plot(x, line(x), label=\"Line\")\n",
      "scat = ax.scatter(roots, line(roots))\n",
      "\n",
      "ax.legend(loc = 0)"
     ],
     "language": "python",
     "metadata": {},
     "outputs": [
      {
       "metadata": {},
       "output_type": "pyout",
       "prompt_number": 79,
       "text": [
        "<matplotlib.legend.Legend at 0x10f052610>"
       ]
      },
      {
       "metadata": {},
       "output_type": "display_data",
       "png": "[encoded data removed]",
       "text": [
        "<matplotlib.figure.Figure at 0x10d4b3510>"
       ]
      }
     ],
     "prompt_number": 79
    },
    {
     "cell_type": "code",
     "collapsed": false,
     "input": [],
     "language": "python",
     "metadata": {},
     "outputs": []
    }
   ],
   "metadata": {}
  }
 ]
}