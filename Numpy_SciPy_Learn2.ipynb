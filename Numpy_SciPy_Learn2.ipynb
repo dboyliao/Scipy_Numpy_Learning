{
 "metadata": {
  "name": "",
  "signature": "sha256:da29d9dd435433473c8a16919c52397f598c13cd319bb7f227bd7648d09e63cd"
 },
 "nbformat": 3,
 "nbformat_minor": 0,
 "worksheets": [
  {
   "cells": [
    {
     "cell_type": "code",
     "collapsed": false,
     "input": [
      "%pylab inline"
     ],
     "language": "python",
     "metadata": {},
     "outputs": [
      {
       "output_type": "stream",
       "stream": "stdout",
       "text": [
        "Populating the interactive namespace from numpy and matplotlib\n"
       ]
      }
     ],
     "prompt_number": 1
    },
    {
     "cell_type": "code",
     "collapsed": false,
     "input": [
      "from IPython.display import Latex"
     ],
     "language": "python",
     "metadata": {},
     "outputs": [],
     "prompt_number": 145
    },
    {
     "cell_type": "markdown",
     "metadata": {},
     "source": [
      "## Basic Array Operations"
     ]
    },
    {
     "cell_type": "code",
     "collapsed": false,
     "input": [
      "import numpy as np\n",
      "\n",
      "arr = np.arange(1e7)"
     ],
     "language": "python",
     "metadata": {},
     "outputs": [],
     "prompt_number": 2
    },
    {
     "cell_type": "code",
     "collapsed": false,
     "input": [
      "arr"
     ],
     "language": "python",
     "metadata": {},
     "outputs": [
      {
       "metadata": {},
       "output_type": "pyout",
       "prompt_number": 3,
       "text": [
        "array([  0.00000000e+00,   1.00000000e+00,   2.00000000e+00, ...,\n",
        "         9.99999700e+06,   9.99999800e+06,   9.99999900e+06])"
       ]
      }
     ],
     "prompt_number": 3
    },
    {
     "cell_type": "code",
     "collapsed": false,
     "input": [
      "larr = arr.tolist()\n",
      "print type(larr)"
     ],
     "language": "python",
     "metadata": {},
     "outputs": [
      {
       "output_type": "stream",
       "stream": "stdout",
       "text": [
        "<type 'list'>\n"
       ]
      }
     ],
     "prompt_number": 4
    },
    {
     "cell_type": "code",
     "collapsed": false,
     "input": [
      "larr[:10]"
     ],
     "language": "python",
     "metadata": {},
     "outputs": [
      {
       "metadata": {},
       "output_type": "pyout",
       "prompt_number": 5,
       "text": [
        "[0.0, 1.0, 2.0, 3.0, 4.0, 5.0, 6.0, 7.0, 8.0, 9.0]"
       ]
      }
     ],
     "prompt_number": 5
    },
    {
     "cell_type": "code",
     "collapsed": false,
     "input": [
      "larr[:2] * 3 # Do not support array multiplication (broadcasting)."
     ],
     "language": "python",
     "metadata": {},
     "outputs": [
      {
       "metadata": {},
       "output_type": "pyout",
       "prompt_number": 6,
       "text": [
        "[0.0, 1.0, 0.0, 1.0, 0.0, 1.0]"
       ]
      }
     ],
     "prompt_number": 6
    },
    {
     "cell_type": "code",
     "collapsed": false,
     "input": [
      "arr * 3 # ndarray support broadcasting."
     ],
     "language": "python",
     "metadata": {},
     "outputs": [
      {
       "metadata": {},
       "output_type": "pyout",
       "prompt_number": 7,
       "text": [
        "array([  0.00000000e+00,   3.00000000e+00,   6.00000000e+00, ...,\n",
        "         2.99999910e+07,   2.99999940e+07,   2.99999970e+07])"
       ]
      }
     ],
     "prompt_number": 7
    },
    {
     "cell_type": "code",
     "collapsed": false,
     "input": [
      "arr = np.zeros((3, 3, 3))\n",
      "arr"
     ],
     "language": "python",
     "metadata": {},
     "outputs": [
      {
       "metadata": {},
       "output_type": "pyout",
       "prompt_number": 8,
       "text": [
        "array([[[ 0.,  0.,  0.],\n",
        "        [ 0.,  0.,  0.],\n",
        "        [ 0.,  0.,  0.]],\n",
        "\n",
        "       [[ 0.,  0.,  0.],\n",
        "        [ 0.,  0.,  0.],\n",
        "        [ 0.,  0.,  0.]],\n",
        "\n",
        "       [[ 0.,  0.,  0.],\n",
        "        [ 0.,  0.,  0.],\n",
        "        [ 0.,  0.,  0.]]])"
       ]
      }
     ],
     "prompt_number": 8
    },
    {
     "cell_type": "code",
     "collapsed": false,
     "input": [
      "print \"\\n\".join(np.matrix.__doc__.split(\"\\n\")[:7])\n",
      "print \n",
      "mat = np.matrix(np.zeros((3, 2)))\n",
      "print mat"
     ],
     "language": "python",
     "metadata": {},
     "outputs": [
      {
       "output_type": "stream",
       "stream": "stdout",
       "text": [
        "\n",
        "    matrix(data, dtype=None, copy=True)\n",
        "\n",
        "    Returns a matrix from an array-like object, or from a string of data.\n",
        "    A matrix is a specialized 2-D array that retains its 2-D nature\n",
        "    through operations.  It has certain special operators, such as ``*``\n",
        "    (matrix multiplication) and ``**`` (matrix power).\n",
        "\n",
        "[[ 0.  0.]\n",
        " [ 0.  0.]\n",
        " [ 0.  0.]]\n"
       ]
      }
     ],
     "prompt_number": 9
    },
    {
     "cell_type": "code",
     "collapsed": false,
     "input": [
      "# Converting a list to ndarray (using np.array: array-like object --> numpy array)\n",
      "alist = [1, 2, 3]\n",
      "arr = np.array(alist)\n",
      "arr"
     ],
     "language": "python",
     "metadata": {},
     "outputs": [
      {
       "metadata": {},
       "output_type": "pyout",
       "prompt_number": 10,
       "text": [
        "array([1, 2, 3])"
       ]
      }
     ],
     "prompt_number": 10
    },
    {
     "cell_type": "code",
     "collapsed": false,
     "input": [
      "# Instanciating an numpy array using np.ndarray. (shape --> numpy array)\n",
      "array1 = np.ndarray(1000)\n",
      "print array1.shape\n",
      "\n",
      "array2 = np.ndarray((1000, 1))\n",
      "print array2.shape"
     ],
     "language": "python",
     "metadata": {},
     "outputs": [
      {
       "output_type": "stream",
       "stream": "stdout",
       "text": [
        "(1000,)\n",
        "(1000, 1)\n"
       ]
      }
     ],
     "prompt_number": 11
    },
    {
     "cell_type": "code",
     "collapsed": false,
     "input": [
      "array1[:10]"
     ],
     "language": "python",
     "metadata": {},
     "outputs": [
      {
       "metadata": {},
       "output_type": "pyout",
       "prompt_number": 12,
       "text": [
        "array([ -1.49166815e-154,  -1.49166815e-154,   0.00000000e+000,\n",
        "         0.00000000e+000,   0.00000000e+000,   0.00000000e+000,\n",
        "         0.00000000e+000,   0.00000000e+000,   0.00000000e+000,\n",
        "         0.00000000e+000])"
       ]
      }
     ],
     "prompt_number": 12
    },
    {
     "cell_type": "code",
     "collapsed": false,
     "input": [
      "print np.ndarray.__doc__"
     ],
     "language": "python",
     "metadata": {},
     "outputs": [
      {
       "output_type": "stream",
       "stream": "stdout",
       "text": [
        "ndarray(shape, dtype=float, buffer=None, offset=0,\n",
        "            strides=None, order=None)\n",
        "\n",
        "    An array object represents a multidimensional, homogeneous array\n",
        "    of fixed-size items.  An associated data-type object describes the\n",
        "    format of each element in the array (its byte-order, how many bytes it\n",
        "    occupies in memory, whether it is an integer, a floating point number,\n",
        "    or something else, etc.)\n",
        "\n",
        "    Arrays should be constructed using `array`, `zeros` or `empty` (refer\n",
        "    to the See Also section below).  The parameters given here refer to\n",
        "    a low-level method (`ndarray(...)`) for instantiating an array.\n",
        "\n",
        "    For more information, refer to the `numpy` module and examine the\n",
        "    the methods and attributes of an array.\n",
        "\n",
        "    Parameters\n",
        "    ----------\n",
        "    (for the __new__ method; see Notes below)\n",
        "\n",
        "    shape : tuple of ints\n",
        "        Shape of created array.\n",
        "    dtype : data-type, optional\n",
        "        Any object that can be interpreted as a numpy data type.\n",
        "    buffer : object exposing buffer interface, optional\n",
        "        Used to fill the array with data.\n",
        "    offset : int, optional\n",
        "        Offset of array data in buffer.\n",
        "    strides : tuple of ints, optional\n",
        "        Strides of data in memory.\n",
        "    order : {'C', 'F'}, optional\n",
        "        Row-major or column-major order.\n",
        "\n",
        "    Attributes\n",
        "    ----------\n",
        "    T : ndarray\n",
        "        Transpose of the array.\n",
        "    data : buffer\n",
        "        The array's elements, in memory.\n",
        "    dtype : dtype object\n",
        "        Describes the format of the elements in the array.\n",
        "    flags : dict\n",
        "        Dictionary containing information related to memory use, e.g.,\n",
        "        'C_CONTIGUOUS', 'OWNDATA', 'WRITEABLE', etc.\n",
        "    flat : numpy.flatiter object\n",
        "        Flattened version of the array as an iterator.  The iterator\n",
        "        allows assignments, e.g., ``x.flat = 3`` (See `ndarray.flat` for\n",
        "        assignment examples; TODO).\n",
        "    imag : ndarray\n",
        "        Imaginary part of the array.\n",
        "    real : ndarray\n",
        "        Real part of the array.\n",
        "    size : int\n",
        "        Number of elements in the array.\n",
        "    itemsize : int\n",
        "        The memory use of each array element in bytes.\n",
        "    nbytes : int\n",
        "        The total number of bytes required to store the array data,\n",
        "        i.e., ``itemsize * size``.\n",
        "    ndim : int\n",
        "        The array's number of dimensions.\n",
        "    shape : tuple of ints\n",
        "        Shape of the array.\n",
        "    strides : tuple of ints\n",
        "        The step-size required to move from one element to the next in\n",
        "        memory. For example, a contiguous ``(3, 4)`` array of type\n",
        "        ``int16`` in C-order has strides ``(8, 2)``.  This implies that\n",
        "        to move from element to element in memory requires jumps of 2 bytes.\n",
        "        To move from row-to-row, one needs to jump 8 bytes at a time\n",
        "        (``2 * 4``).\n",
        "    ctypes : ctypes object\n",
        "        Class containing properties of the array needed for interaction\n",
        "        with ctypes.\n",
        "    base : ndarray\n",
        "        If the array is a view into another array, that array is its `base`\n",
        "        (unless that array is also a view).  The `base` array is where the\n",
        "        array data is actually stored.\n",
        "\n",
        "    See Also\n",
        "    --------\n",
        "    array : Construct an array.\n",
        "    zeros : Create an array, each element of which is zero.\n",
        "    empty : Create an array, but leave its allocated memory unchanged (i.e.,\n",
        "            it contains \"garbage\").\n",
        "    dtype : Create a data-type.\n",
        "\n",
        "    Notes\n",
        "    -----\n",
        "    There are two modes of creating an array using ``__new__``:\n",
        "\n",
        "    1. If `buffer` is None, then only `shape`, `dtype`, and `order`\n",
        "       are used.\n",
        "    2. If `buffer` is an object exposing the buffer interface, then\n",
        "       all keywords are interpreted.\n",
        "\n",
        "    No ``__init__`` method is needed because the array is fully initialized\n",
        "    after the ``__new__`` method.\n",
        "\n",
        "    Examples\n",
        "    --------\n",
        "    These examples illustrate the low-level `ndarray` constructor.  Refer\n",
        "    to the `See Also` section above for easier ways of constructing an\n",
        "    ndarray.\n",
        "\n",
        "    First mode, `buffer` is None:\n",
        "\n",
        "    >>> np.ndarray(shape=(2,2), dtype=float, order='F')\n",
        "    array([[ -1.13698227e+002,   4.25087011e-303],\n",
        "           [  2.88528414e-306,   3.27025015e-309]])         #random\n",
        "\n",
        "    Second mode:\n",
        "\n",
        "    >>> np.ndarray((2,), buffer=np.array([1,2,3]),\n",
        "    ...            offset=np.int_().itemsize,\n",
        "    ...            dtype=int) # offset = 1*itemsize, i.e. skip first element\n",
        "    array([2, 3])\n"
       ]
      }
     ],
     "prompt_number": 13
    },
    {
     "cell_type": "code",
     "collapsed": false,
     "input": [
      "np.linspace(0, 10, 10000) # zero to 10 with 10000 steps."
     ],
     "language": "python",
     "metadata": {},
     "outputs": [
      {
       "metadata": {},
       "output_type": "pyout",
       "prompt_number": 14,
       "text": [
        "array([  0.00000000e+00,   1.00010001e-03,   2.00020002e-03, ...,\n",
        "         9.99799980e+00,   9.99899990e+00,   1.00000000e+01])"
       ]
      }
     ],
     "prompt_number": 14
    },
    {
     "cell_type": "code",
     "collapsed": false,
     "input": [
      "cube = np.zeros((5, 5, 5))\n",
      "cube.dtype"
     ],
     "language": "python",
     "metadata": {},
     "outputs": [
      {
       "metadata": {},
       "output_type": "pyout",
       "prompt_number": 15,
       "text": [
        "dtype('float64')"
       ]
      }
     ],
     "prompt_number": 15
    },
    {
     "cell_type": "code",
     "collapsed": false,
     "input": [
      "cube2 = cube.astype(int) + 1\n",
      "cube2[0:2]"
     ],
     "language": "python",
     "metadata": {},
     "outputs": [
      {
       "metadata": {},
       "output_type": "pyout",
       "prompt_number": 209,
       "text": [
        "array([[[1, 1, 1, 1, 1],\n",
        "        [1, 1, 1, 1, 1],\n",
        "        [1, 1, 1, 1, 1],\n",
        "        [1, 1, 1, 1, 1],\n",
        "        [1, 1, 1, 1, 1]],\n",
        "\n",
        "       [[1, 1, 1, 1, 1],\n",
        "        [1, 1, 1, 1, 1],\n",
        "        [1, 1, 1, 1, 1],\n",
        "        [1, 1, 1, 1, 1],\n",
        "        [1, 1, 1, 1, 1]]])"
       ]
      }
     ],
     "prompt_number": 209
    },
    {
     "cell_type": "code",
     "collapsed": false,
     "input": [
      "cube2.dtype"
     ],
     "language": "python",
     "metadata": {},
     "outputs": [
      {
       "metadata": {},
       "output_type": "pyout",
       "prompt_number": 210,
       "text": [
        "dtype('int64')"
       ]
      }
     ],
     "prompt_number": 210
    },
    {
     "cell_type": "code",
     "collapsed": false,
     "input": [
      "int_arr = np.zeros((1, 10), dtype=int)"
     ],
     "language": "python",
     "metadata": {},
     "outputs": [],
     "prompt_number": 17
    },
    {
     "cell_type": "code",
     "collapsed": false,
     "input": [
      "int_arr.tolist()"
     ],
     "language": "python",
     "metadata": {},
     "outputs": [
      {
       "metadata": {},
       "output_type": "pyout",
       "prompt_number": 18,
       "text": [
        "[[0, 0, 0, 0, 0, 0, 0, 0, 0, 0]]"
       ]
      }
     ],
     "prompt_number": 18
    },
    {
     "cell_type": "code",
     "collapsed": false,
     "input": [
      "int_arr2 = np.zeros(10, dtype=int)"
     ],
     "language": "python",
     "metadata": {},
     "outputs": [],
     "prompt_number": 19
    },
    {
     "cell_type": "code",
     "collapsed": false,
     "input": [
      "int_arr2.tolist()"
     ],
     "language": "python",
     "metadata": {},
     "outputs": [
      {
       "metadata": {},
       "output_type": "pyout",
       "prompt_number": 20,
       "text": [
        "[0, 0, 0, 0, 0, 0, 0, 0, 0, 0]"
       ]
      }
     ],
     "prompt_number": 20
    },
    {
     "cell_type": "code",
     "collapsed": false,
     "input": [
      "arr1d = np.zeros((1000, 1))"
     ],
     "language": "python",
     "metadata": {},
     "outputs": [],
     "prompt_number": 21
    },
    {
     "cell_type": "code",
     "collapsed": false,
     "input": [
      "arr3d = arr1d.reshape((10, 10, 10))"
     ],
     "language": "python",
     "metadata": {},
     "outputs": [],
     "prompt_number": 22
    },
    {
     "cell_type": "code",
     "collapsed": false,
     "input": [
      "arr3d[9]"
     ],
     "language": "python",
     "metadata": {},
     "outputs": [
      {
       "metadata": {},
       "output_type": "pyout",
       "prompt_number": 23,
       "text": [
        "array([[ 0.,  0.,  0.,  0.,  0.,  0.,  0.,  0.,  0.,  0.],\n",
        "       [ 0.,  0.,  0.,  0.,  0.,  0.,  0.,  0.,  0.,  0.],\n",
        "       [ 0.,  0.,  0.,  0.,  0.,  0.,  0.,  0.,  0.,  0.],\n",
        "       [ 0.,  0.,  0.,  0.,  0.,  0.,  0.,  0.,  0.,  0.],\n",
        "       [ 0.,  0.,  0.,  0.,  0.,  0.,  0.,  0.,  0.,  0.],\n",
        "       [ 0.,  0.,  0.,  0.,  0.,  0.,  0.,  0.,  0.,  0.],\n",
        "       [ 0.,  0.,  0.,  0.,  0.,  0.,  0.,  0.,  0.,  0.],\n",
        "       [ 0.,  0.,  0.,  0.,  0.,  0.,  0.,  0.,  0.,  0.],\n",
        "       [ 0.,  0.,  0.,  0.,  0.,  0.,  0.,  0.,  0.,  0.],\n",
        "       [ 0.,  0.,  0.,  0.,  0.,  0.,  0.,  0.,  0.,  0.]])"
       ]
      }
     ],
     "prompt_number": 23
    },
    {
     "cell_type": "code",
     "collapsed": false,
     "input": [
      "arr = arr3d.ravel() # Flat a multidimensional array to 1-D array.\n",
      "arr.shape"
     ],
     "language": "python",
     "metadata": {},
     "outputs": [
      {
       "metadata": {},
       "output_type": "pyout",
       "prompt_number": 24,
       "text": [
        "(1000,)"
       ]
      }
     ],
     "prompt_number": 24
    },
    {
     "cell_type": "markdown",
     "metadata": {},
     "source": [
      "## Record Array"
     ]
    },
    {
     "cell_type": "code",
     "collapsed": false,
     "input": [
      "recarr = np.zeros((2,), dtype = ('i4, f4, a10'))\n",
      "toadd = [(1, 2, 'Hello'), (2, 3., 'World')]"
     ],
     "language": "python",
     "metadata": {},
     "outputs": [],
     "prompt_number": 25
    },
    {
     "cell_type": "code",
     "collapsed": false,
     "input": [
      "recarr[:] = toadd"
     ],
     "language": "python",
     "metadata": {},
     "outputs": [],
     "prompt_number": 26
    },
    {
     "cell_type": "code",
     "collapsed": false,
     "input": [
      "recarr"
     ],
     "language": "python",
     "metadata": {},
     "outputs": [
      {
       "metadata": {},
       "output_type": "pyout",
       "prompt_number": 27,
       "text": [
        "array([(1, 2.0, 'Hello'), (2, 3.0, 'World')], \n",
        "      dtype=[('f0', '<i4'), ('f1', '<f4'), ('f2', 'S10')])"
       ]
      }
     ],
     "prompt_number": 27
    },
    {
     "cell_type": "code",
     "collapsed": false,
     "input": [
      "recarr.dtype.names = (\"Int\", 'Float', \"String\")\n",
      "recarr"
     ],
     "language": "python",
     "metadata": {},
     "outputs": [
      {
       "metadata": {},
       "output_type": "pyout",
       "prompt_number": 28,
       "text": [
        "array([(1, 2.0, 'Hello'), (2, 3.0, 'World')], \n",
        "      dtype=[('Int', '<i4'), ('Float', '<f4'), ('String', 'S10')])"
       ]
      }
     ],
     "prompt_number": 28
    },
    {
     "cell_type": "code",
     "collapsed": false,
     "input": [
      "recarr[\"Int\"]"
     ],
     "language": "python",
     "metadata": {},
     "outputs": [
      {
       "metadata": {},
       "output_type": "pyout",
       "prompt_number": 29,
       "text": [
        "array([1, 2], dtype=int32)"
       ]
      }
     ],
     "prompt_number": 29
    },
    {
     "cell_type": "code",
     "collapsed": false,
     "input": [
      "recarr[\"String\"]"
     ],
     "language": "python",
     "metadata": {},
     "outputs": [
      {
       "metadata": {},
       "output_type": "pyout",
       "prompt_number": 30,
       "text": [
        "array(['Hello', 'World'], \n",
        "      dtype='|S10')"
       ]
      }
     ],
     "prompt_number": 30
    },
    {
     "cell_type": "markdown",
     "metadata": {},
     "source": [
      "## Indexing"
     ]
    },
    {
     "cell_type": "code",
     "collapsed": false,
     "input": [
      "arr = np.arange(100).reshape((10, 10))"
     ],
     "language": "python",
     "metadata": {},
     "outputs": [],
     "prompt_number": 31
    },
    {
     "cell_type": "code",
     "collapsed": false,
     "input": [
      "print arr[1, 9]\n",
      "print arr[2, 3]"
     ],
     "language": "python",
     "metadata": {},
     "outputs": [
      {
       "output_type": "stream",
       "stream": "stdout",
       "text": [
        "19\n",
        "23\n"
       ]
      }
     ],
     "prompt_number": 32
    },
    {
     "cell_type": "code",
     "collapsed": false,
     "input": [
      "arr[1, :]"
     ],
     "language": "python",
     "metadata": {},
     "outputs": [
      {
       "metadata": {},
       "output_type": "pyout",
       "prompt_number": 33,
       "text": [
        "array([10, 11, 12, 13, 14, 15, 16, 17, 18, 19])"
       ]
      }
     ],
     "prompt_number": 33
    },
    {
     "cell_type": "code",
     "collapsed": false,
     "input": [
      "arr[2:4, 0:3]"
     ],
     "language": "python",
     "metadata": {},
     "outputs": [
      {
       "metadata": {},
       "output_type": "pyout",
       "prompt_number": 34,
       "text": [
        "array([[20, 21, 22],\n",
        "       [30, 31, 32]])"
       ]
      }
     ],
     "prompt_number": 34
    },
    {
     "cell_type": "code",
     "collapsed": false,
     "input": [
      "ind = np.where(arr >= 30)\n",
      "ind"
     ],
     "language": "python",
     "metadata": {},
     "outputs": [
      {
       "metadata": {},
       "output_type": "pyout",
       "prompt_number": 35,
       "text": [
        "(array([3, 3, 3, 3, 3, 3, 3, 3, 3, 3, 4, 4, 4, 4, 4, 4, 4, 4, 4, 4, 5, 5, 5,\n",
        "        5, 5, 5, 5, 5, 5, 5, 6, 6, 6, 6, 6, 6, 6, 6, 6, 6, 7, 7, 7, 7, 7, 7,\n",
        "        7, 7, 7, 7, 8, 8, 8, 8, 8, 8, 8, 8, 8, 8, 9, 9, 9, 9, 9, 9, 9, 9, 9,\n",
        "        9]),\n",
        " array([0, 1, 2, 3, 4, 5, 6, 7, 8, 9, 0, 1, 2, 3, 4, 5, 6, 7, 8, 9, 0, 1, 2,\n",
        "        3, 4, 5, 6, 7, 8, 9, 0, 1, 2, 3, 4, 5, 6, 7, 8, 9, 0, 1, 2, 3, 4, 5,\n",
        "        6, 7, 8, 9, 0, 1, 2, 3, 4, 5, 6, 7, 8, 9, 0, 1, 2, 3, 4, 5, 6, 7, 8,\n",
        "        9]))"
       ]
      }
     ],
     "prompt_number": 35
    },
    {
     "cell_type": "code",
     "collapsed": false,
     "input": [
      "arr[ind].reshape((np.unique(ind[0]).shape[0], np.unique(ind[1]).shape[0]))"
     ],
     "language": "python",
     "metadata": {},
     "outputs": [
      {
       "metadata": {},
       "output_type": "pyout",
       "prompt_number": 36,
       "text": [
        "array([[30, 31, 32, 33, 34, 35, 36, 37, 38, 39],\n",
        "       [40, 41, 42, 43, 44, 45, 46, 47, 48, 49],\n",
        "       [50, 51, 52, 53, 54, 55, 56, 57, 58, 59],\n",
        "       [60, 61, 62, 63, 64, 65, 66, 67, 68, 69],\n",
        "       [70, 71, 72, 73, 74, 75, 76, 77, 78, 79],\n",
        "       [80, 81, 82, 83, 84, 85, 86, 87, 88, 89],\n",
        "       [90, 91, 92, 93, 94, 95, 96, 97, 98, 99]])"
       ]
      }
     ],
     "prompt_number": 36
    },
    {
     "cell_type": "code",
     "collapsed": false,
     "input": [
      "np.unique(ind[0]).shape[0]"
     ],
     "language": "python",
     "metadata": {},
     "outputs": [
      {
       "metadata": {},
       "output_type": "pyout",
       "prompt_number": 37,
       "text": [
        "7"
       ]
      }
     ],
     "prompt_number": 37
    },
    {
     "cell_type": "code",
     "collapsed": false,
     "input": [
      "img1 = np.zeros((20, 20)) + 3\n",
      "img1[4:-4, 4:-4] = 6\n",
      "img1[7:-7, 7:-7] = 9"
     ],
     "language": "python",
     "metadata": {},
     "outputs": [],
     "prompt_number": 38
    },
    {
     "cell_type": "code",
     "collapsed": false,
     "input": [
      "img1"
     ],
     "language": "python",
     "metadata": {},
     "outputs": [
      {
       "metadata": {},
       "output_type": "pyout",
       "prompt_number": 39,
       "text": [
        "array([[ 3.,  3.,  3.,  3.,  3.,  3.,  3.,  3.,  3.,  3.,  3.,  3.,  3.,\n",
        "         3.,  3.,  3.,  3.,  3.,  3.,  3.],\n",
        "       [ 3.,  3.,  3.,  3.,  3.,  3.,  3.,  3.,  3.,  3.,  3.,  3.,  3.,\n",
        "         3.,  3.,  3.,  3.,  3.,  3.,  3.],\n",
        "       [ 3.,  3.,  3.,  3.,  3.,  3.,  3.,  3.,  3.,  3.,  3.,  3.,  3.,\n",
        "         3.,  3.,  3.,  3.,  3.,  3.,  3.],\n",
        "       [ 3.,  3.,  3.,  3.,  3.,  3.,  3.,  3.,  3.,  3.,  3.,  3.,  3.,\n",
        "         3.,  3.,  3.,  3.,  3.,  3.,  3.],\n",
        "       [ 3.,  3.,  3.,  3.,  6.,  6.,  6.,  6.,  6.,  6.,  6.,  6.,  6.,\n",
        "         6.,  6.,  6.,  3.,  3.,  3.,  3.],\n",
        "       [ 3.,  3.,  3.,  3.,  6.,  6.,  6.,  6.,  6.,  6.,  6.,  6.,  6.,\n",
        "         6.,  6.,  6.,  3.,  3.,  3.,  3.],\n",
        "       [ 3.,  3.,  3.,  3.,  6.,  6.,  6.,  6.,  6.,  6.,  6.,  6.,  6.,\n",
        "         6.,  6.,  6.,  3.,  3.,  3.,  3.],\n",
        "       [ 3.,  3.,  3.,  3.,  6.,  6.,  6.,  9.,  9.,  9.,  9.,  9.,  9.,\n",
        "         6.,  6.,  6.,  3.,  3.,  3.,  3.],\n",
        "       [ 3.,  3.,  3.,  3.,  6.,  6.,  6.,  9.,  9.,  9.,  9.,  9.,  9.,\n",
        "         6.,  6.,  6.,  3.,  3.,  3.,  3.],\n",
        "       [ 3.,  3.,  3.,  3.,  6.,  6.,  6.,  9.,  9.,  9.,  9.,  9.,  9.,\n",
        "         6.,  6.,  6.,  3.,  3.,  3.,  3.],\n",
        "       [ 3.,  3.,  3.,  3.,  6.,  6.,  6.,  9.,  9.,  9.,  9.,  9.,  9.,\n",
        "         6.,  6.,  6.,  3.,  3.,  3.,  3.],\n",
        "       [ 3.,  3.,  3.,  3.,  6.,  6.,  6.,  9.,  9.,  9.,  9.,  9.,  9.,\n",
        "         6.,  6.,  6.,  3.,  3.,  3.,  3.],\n",
        "       [ 3.,  3.,  3.,  3.,  6.,  6.,  6.,  9.,  9.,  9.,  9.,  9.,  9.,\n",
        "         6.,  6.,  6.,  3.,  3.,  3.,  3.],\n",
        "       [ 3.,  3.,  3.,  3.,  6.,  6.,  6.,  6.,  6.,  6.,  6.,  6.,  6.,\n",
        "         6.,  6.,  6.,  3.,  3.,  3.,  3.],\n",
        "       [ 3.,  3.,  3.,  3.,  6.,  6.,  6.,  6.,  6.,  6.,  6.,  6.,  6.,\n",
        "         6.,  6.,  6.,  3.,  3.,  3.,  3.],\n",
        "       [ 3.,  3.,  3.,  3.,  6.,  6.,  6.,  6.,  6.,  6.,  6.,  6.,  6.,\n",
        "         6.,  6.,  6.,  3.,  3.,  3.,  3.],\n",
        "       [ 3.,  3.,  3.,  3.,  3.,  3.,  3.,  3.,  3.,  3.,  3.,  3.,  3.,\n",
        "         3.,  3.,  3.,  3.,  3.,  3.,  3.],\n",
        "       [ 3.,  3.,  3.,  3.,  3.,  3.,  3.,  3.,  3.,  3.,  3.,  3.,  3.,\n",
        "         3.,  3.,  3.,  3.,  3.,  3.,  3.],\n",
        "       [ 3.,  3.,  3.,  3.,  3.,  3.,  3.,  3.,  3.,  3.,  3.,  3.,  3.,\n",
        "         3.,  3.,  3.,  3.,  3.,  3.,  3.],\n",
        "       [ 3.,  3.,  3.,  3.,  3.,  3.,  3.,  3.,  3.,  3.,  3.,  3.,  3.,\n",
        "         3.,  3.,  3.,  3.,  3.,  3.,  3.]])"
       ]
      }
     ],
     "prompt_number": 39
    },
    {
     "cell_type": "code",
     "collapsed": false,
     "input": [
      "imshow(img1)"
     ],
     "language": "python",
     "metadata": {},
     "outputs": [
      {
       "metadata": {},
       "output_type": "pyout",
       "prompt_number": 40,
       "text": [
        "<matplotlib.image.AxesImage at 0x122f5e510>"
       ]
      },
      {
       "metadata": {},
       "output_type": "display_data",
       "png": "[encoded data removed]",
       "text": [
        "<matplotlib.figure.Figure at 0x105d7ce10>"
       ]
      }
     ],
     "prompt_number": 40
    },
    {
     "cell_type": "code",
     "collapsed": false,
     "input": [
      "compound_ind = (img1 > 3) & (img1 < 7)"
     ],
     "language": "python",
     "metadata": {},
     "outputs": [],
     "prompt_number": 41
    },
    {
     "cell_type": "code",
     "collapsed": false,
     "input": [
      "import copy"
     ],
     "language": "python",
     "metadata": {},
     "outputs": [],
     "prompt_number": 42
    },
    {
     "cell_type": "code",
     "collapsed": false,
     "input": [
      "%time img2 = copy.deepcopy(img1)"
     ],
     "language": "python",
     "metadata": {},
     "outputs": [
      {
       "output_type": "stream",
       "stream": "stdout",
       "text": [
        "CPU times: user 32 \u00b5s, sys: 15 \u00b5s, total: 47 \u00b5s\n",
        "Wall time: 40.1 \u00b5s\n"
       ]
      }
     ],
     "prompt_number": 43
    },
    {
     "cell_type": "code",
     "collapsed": false,
     "input": [
      "%time img3 = np.copy(img1)"
     ],
     "language": "python",
     "metadata": {},
     "outputs": [
      {
       "output_type": "stream",
       "stream": "stdout",
       "text": [
        "CPU times: user 24 \u00b5s, sys: 3 \u00b5s, total: 27 \u00b5s\n",
        "Wall time: 31.9 \u00b5s\n"
       ]
      }
     ],
     "prompt_number": 44
    },
    {
     "cell_type": "code",
     "collapsed": false,
     "input": [
      "img2 = np.copy(img1)"
     ],
     "language": "python",
     "metadata": {},
     "outputs": [],
     "prompt_number": 45
    },
    {
     "cell_type": "code",
     "collapsed": false,
     "input": [
      "img2[compound_ind] = 0\n",
      "imshow(img2)"
     ],
     "language": "python",
     "metadata": {},
     "outputs": [
      {
       "metadata": {},
       "output_type": "pyout",
       "prompt_number": 46,
       "text": [
        "<matplotlib.image.AxesImage at 0x12306c990>"
       ]
      },
      {
       "metadata": {},
       "output_type": "display_data",
       "png": "[encoded data removed]",
       "text": [
        "<matplotlib.figure.Figure at 0x1035e1450>"
       ]
      }
     ],
     "prompt_number": 46
    },
    {
     "cell_type": "code",
     "collapsed": false,
     "input": [
      "img2"
     ],
     "language": "python",
     "metadata": {},
     "outputs": [
      {
       "metadata": {},
       "output_type": "pyout",
       "prompt_number": 47,
       "text": [
        "array([[ 3.,  3.,  3.,  3.,  3.,  3.,  3.,  3.,  3.,  3.,  3.,  3.,  3.,\n",
        "         3.,  3.,  3.,  3.,  3.,  3.,  3.],\n",
        "       [ 3.,  3.,  3.,  3.,  3.,  3.,  3.,  3.,  3.,  3.,  3.,  3.,  3.,\n",
        "         3.,  3.,  3.,  3.,  3.,  3.,  3.],\n",
        "       [ 3.,  3.,  3.,  3.,  3.,  3.,  3.,  3.,  3.,  3.,  3.,  3.,  3.,\n",
        "         3.,  3.,  3.,  3.,  3.,  3.,  3.],\n",
        "       [ 3.,  3.,  3.,  3.,  3.,  3.,  3.,  3.,  3.,  3.,  3.,  3.,  3.,\n",
        "         3.,  3.,  3.,  3.,  3.,  3.,  3.],\n",
        "       [ 3.,  3.,  3.,  3.,  0.,  0.,  0.,  0.,  0.,  0.,  0.,  0.,  0.,\n",
        "         0.,  0.,  0.,  3.,  3.,  3.,  3.],\n",
        "       [ 3.,  3.,  3.,  3.,  0.,  0.,  0.,  0.,  0.,  0.,  0.,  0.,  0.,\n",
        "         0.,  0.,  0.,  3.,  3.,  3.,  3.],\n",
        "       [ 3.,  3.,  3.,  3.,  0.,  0.,  0.,  0.,  0.,  0.,  0.,  0.,  0.,\n",
        "         0.,  0.,  0.,  3.,  3.,  3.,  3.],\n",
        "       [ 3.,  3.,  3.,  3.,  0.,  0.,  0.,  9.,  9.,  9.,  9.,  9.,  9.,\n",
        "         0.,  0.,  0.,  3.,  3.,  3.,  3.],\n",
        "       [ 3.,  3.,  3.,  3.,  0.,  0.,  0.,  9.,  9.,  9.,  9.,  9.,  9.,\n",
        "         0.,  0.,  0.,  3.,  3.,  3.,  3.],\n",
        "       [ 3.,  3.,  3.,  3.,  0.,  0.,  0.,  9.,  9.,  9.,  9.,  9.,  9.,\n",
        "         0.,  0.,  0.,  3.,  3.,  3.,  3.],\n",
        "       [ 3.,  3.,  3.,  3.,  0.,  0.,  0.,  9.,  9.,  9.,  9.,  9.,  9.,\n",
        "         0.,  0.,  0.,  3.,  3.,  3.,  3.],\n",
        "       [ 3.,  3.,  3.,  3.,  0.,  0.,  0.,  9.,  9.,  9.,  9.,  9.,  9.,\n",
        "         0.,  0.,  0.,  3.,  3.,  3.,  3.],\n",
        "       [ 3.,  3.,  3.,  3.,  0.,  0.,  0.,  9.,  9.,  9.,  9.,  9.,  9.,\n",
        "         0.,  0.,  0.,  3.,  3.,  3.,  3.],\n",
        "       [ 3.,  3.,  3.,  3.,  0.,  0.,  0.,  0.,  0.,  0.,  0.,  0.,  0.,\n",
        "         0.,  0.,  0.,  3.,  3.,  3.,  3.],\n",
        "       [ 3.,  3.,  3.,  3.,  0.,  0.,  0.,  0.,  0.,  0.,  0.,  0.,  0.,\n",
        "         0.,  0.,  0.,  3.,  3.,  3.,  3.],\n",
        "       [ 3.,  3.,  3.,  3.,  0.,  0.,  0.,  0.,  0.,  0.,  0.,  0.,  0.,\n",
        "         0.,  0.,  0.,  3.,  3.,  3.,  3.],\n",
        "       [ 3.,  3.,  3.,  3.,  3.,  3.,  3.,  3.,  3.,  3.,  3.,  3.,  3.,\n",
        "         3.,  3.,  3.,  3.,  3.,  3.,  3.],\n",
        "       [ 3.,  3.,  3.,  3.,  3.,  3.,  3.,  3.,  3.,  3.,  3.,  3.,  3.,\n",
        "         3.,  3.,  3.,  3.,  3.,  3.,  3.],\n",
        "       [ 3.,  3.,  3.,  3.,  3.,  3.,  3.,  3.,  3.,  3.,  3.,  3.,  3.,\n",
        "         3.,  3.,  3.,  3.,  3.,  3.,  3.],\n",
        "       [ 3.,  3.,  3.,  3.,  3.,  3.,  3.,  3.,  3.,  3.,  3.,  3.,  3.,\n",
        "         3.,  3.,  3.,  3.,  3.,  3.,  3.]])"
       ]
      }
     ],
     "prompt_number": 47
    },
    {
     "cell_type": "code",
     "collapsed": false,
     "input": [
      "ind3 = img1 == 9\n",
      "ind4 = compound_ind & ind3"
     ],
     "language": "python",
     "metadata": {},
     "outputs": [],
     "prompt_number": 48
    },
    {
     "cell_type": "code",
     "collapsed": false,
     "input": [
      "img3 = np.copy(img1)"
     ],
     "language": "python",
     "metadata": {},
     "outputs": [],
     "prompt_number": 49
    },
    {
     "cell_type": "code",
     "collapsed": false,
     "input": [
      "img3[ind3] = 1"
     ],
     "language": "python",
     "metadata": {},
     "outputs": [],
     "prompt_number": 50
    },
    {
     "cell_type": "code",
     "collapsed": false,
     "input": [
      "imshow(img3)"
     ],
     "language": "python",
     "metadata": {},
     "outputs": [
      {
       "metadata": {},
       "output_type": "pyout",
       "prompt_number": 51,
       "text": [
        "<matplotlib.image.AxesImage at 0x123295550>"
       ]
      },
      {
       "metadata": {},
       "output_type": "display_data",
       "png": "[encoded data removed]",
       "text": [
        "<matplotlib.figure.Figure at 0x104359710>"
       ]
      }
     ],
     "prompt_number": 51
    },
    {
     "cell_type": "code",
     "collapsed": false,
     "input": [
      "import numpy.random as rand"
     ],
     "language": "python",
     "metadata": {},
     "outputs": [],
     "prompt_number": 52
    },
    {
     "cell_type": "code",
     "collapsed": false,
     "input": [
      "print rand.randn.__doc__"
     ],
     "language": "python",
     "metadata": {},
     "outputs": [
      {
       "output_type": "stream",
       "stream": "stdout",
       "text": [
        "\n",
        "        randn(d0, d1, ..., dn)\n",
        "\n",
        "        Return a sample (or samples) from the \"standard normal\" distribution.\n",
        "\n",
        "        If positive, int_like or int-convertible arguments are provided,\n",
        "        `randn` generates an array of shape ``(d0, d1, ..., dn)``, filled\n",
        "        with random floats sampled from a univariate \"normal\" (Gaussian)\n",
        "        distribution of mean 0 and variance 1 (if any of the :math:`d_i` are\n",
        "        floats, they are first converted to integers by truncation). A single\n",
        "        float randomly sampled from the distribution is returned if no\n",
        "        argument is provided.\n",
        "\n",
        "        This is a convenience function.  If you want an interface that takes a\n",
        "        tuple as the first argument, use `numpy.random.standard_normal` instead.\n",
        "\n",
        "        Parameters\n",
        "        ----------\n",
        "        d0, d1, ..., dn : int, optional\n",
        "            The dimensions of the returned array, should be all positive.\n",
        "            If no argument is given a single Python float is returned.\n",
        "\n",
        "        Returns\n",
        "        -------\n",
        "        Z : ndarray or float\n",
        "            A ``(d0, d1, ..., dn)``-shaped array of floating-point samples from\n",
        "            the standard normal distribution, or a single such float if\n",
        "            no parameters were supplied.\n",
        "\n",
        "        See Also\n",
        "        --------\n",
        "        random.standard_normal : Similar, but takes a tuple as its argument.\n",
        "\n",
        "        Notes\n",
        "        -----\n",
        "        For random samples from :math:`N(\\mu, \\sigma^2)`, use:\n",
        "\n",
        "        ``sigma * np.random.randn(...) + mu``\n",
        "\n",
        "        Examples\n",
        "        --------\n",
        "        >>> np.random.randn()\n",
        "        2.1923875335537315 #random\n",
        "\n",
        "        Two-by-four array of samples from N(3, 6.25):\n",
        "\n",
        "        >>> 2.5 * np.random.randn(2, 4) + 3\n",
        "        array([[-4.49401501,  4.00950034, -1.81814867,  7.29718677],  #random\n",
        "               [ 0.39924804,  4.68456316,  4.99394529,  4.84057254]]) #random\n",
        "\n",
        "        \n"
       ]
      }
     ],
     "prompt_number": 53
    },
    {
     "cell_type": "code",
     "collapsed": false,
     "input": [
      "a = rand.randn(100)"
     ],
     "language": "python",
     "metadata": {},
     "outputs": [],
     "prompt_number": 54
    },
    {
     "cell_type": "code",
     "collapsed": false,
     "input": [
      "ind = a > 0.2\n",
      "b = a[ind]"
     ],
     "language": "python",
     "metadata": {},
     "outputs": [],
     "prompt_number": 55
    },
    {
     "cell_type": "code",
     "collapsed": false,
     "input": [
      "b = b**2 + 5"
     ],
     "language": "python",
     "metadata": {},
     "outputs": [],
     "prompt_number": 56
    },
    {
     "cell_type": "code",
     "collapsed": false,
     "input": [
      "a[ind] = b\n",
      "imshow(a.reshape((10, 10)))"
     ],
     "language": "python",
     "metadata": {},
     "outputs": [
      {
       "metadata": {},
       "output_type": "pyout",
       "prompt_number": 57,
       "text": [
        "<matplotlib.image.AxesImage at 0x1233b5d10>"
       ]
      },
      {
       "metadata": {},
       "output_type": "display_data",
       "png": "[encoded data removed]",
       "text": [
        "<matplotlib.figure.Figure at 0x123248790>"
       ]
      }
     ],
     "prompt_number": 57
    },
    {
     "cell_type": "markdown",
     "metadata": {},
     "source": [
      "### Text Files"
     ]
    },
    {
     "cell_type": "code",
     "collapsed": false,
     "input": [
      "%%file test.txt\n",
      "XR21 32.789 1\n",
      "XR22 33.091 2"
     ],
     "language": "python",
     "metadata": {},
     "outputs": [
      {
       "output_type": "stream",
       "stream": "stdout",
       "text": [
        "Overwriting test.txt\n"
       ]
      }
     ],
     "prompt_number": 58
    },
    {
     "cell_type": "code",
     "collapsed": false,
     "input": [
      "table = np.loadtxt('test.txt', dtype = {'names': ('ID', 'Result', 'Type'), 'formats':('S4', 'f4', 'i2')})"
     ],
     "language": "python",
     "metadata": {},
     "outputs": [],
     "prompt_number": 59
    },
    {
     "cell_type": "code",
     "collapsed": false,
     "input": [
      "table"
     ],
     "language": "python",
     "metadata": {},
     "outputs": [
      {
       "metadata": {},
       "output_type": "pyout",
       "prompt_number": 60,
       "text": [
        "array([('XR21', 32.78900146484375, 1), ('XR22', 33.090999603271484, 2)], \n",
        "      dtype=[('ID', 'S4'), ('Result', '<f4'), ('Type', '<i2')])"
       ]
      }
     ],
     "prompt_number": 60
    },
    {
     "cell_type": "markdown",
     "metadata": {},
     "source": [
      "### Binary Files"
     ]
    },
    {
     "cell_type": "code",
     "collapsed": false,
     "input": [
      "data = np.empty((1000, 1000))"
     ],
     "language": "python",
     "metadata": {},
     "outputs": [],
     "prompt_number": 61
    },
    {
     "cell_type": "code",
     "collapsed": false,
     "input": [
      "np.save(\"test.npy\", data) # Save as binary data for a np.array"
     ],
     "language": "python",
     "metadata": {},
     "outputs": [],
     "prompt_number": 62
    },
    {
     "cell_type": "code",
     "collapsed": false,
     "input": [
      "np.savez(\"test.npz\", data) # Save as compressed binary data."
     ],
     "language": "python",
     "metadata": {},
     "outputs": [],
     "prompt_number": 63
    },
    {
     "cell_type": "code",
     "collapsed": false,
     "input": [
      "!tree ."
     ],
     "language": "python",
     "metadata": {},
     "outputs": [
      {
       "output_type": "stream",
       "stream": "stdout",
       "text": [
        ".\r\n",
        "\u251c\u2500\u2500 scipy_numpy_learn.ipynb\r\n",
        "\u251c\u2500\u2500 test.npy\r\n",
        "\u251c\u2500\u2500 test.npz\r\n",
        "\u2514\u2500\u2500 test.txt\r\n",
        "\r\n",
        "0 directories, 4 files\r\n"
       ]
      }
     ],
     "prompt_number": 64
    },
    {
     "cell_type": "code",
     "collapsed": false,
     "input": [
      "restored_data = np.load(\"test.npy\")"
     ],
     "language": "python",
     "metadata": {},
     "outputs": [],
     "prompt_number": 65
    },
    {
     "cell_type": "code",
     "collapsed": false,
     "input": [
      "restored_data"
     ],
     "language": "python",
     "metadata": {},
     "outputs": [
      {
       "metadata": {},
       "output_type": "pyout",
       "prompt_number": 66,
       "text": [
        "array([[ 0.,  0.,  0., ...,  0.,  0.,  0.],\n",
        "       [ 0.,  0.,  0., ...,  0.,  0.,  0.],\n",
        "       [ 0.,  0.,  0., ...,  0.,  0.,  0.],\n",
        "       ..., \n",
        "       [ 0.,  0.,  0., ...,  0.,  0.,  0.],\n",
        "       [ 0.,  0.,  0., ...,  0.,  0.,  0.],\n",
        "       [ 0.,  0.,  0., ...,  0.,  0.,  0.]])"
       ]
      }
     ],
     "prompt_number": 66
    },
    {
     "cell_type": "code",
     "collapsed": false,
     "input": [
      "arr = rand.randint(0, 100, 10)"
     ],
     "language": "python",
     "metadata": {},
     "outputs": [],
     "prompt_number": 75
    },
    {
     "cell_type": "code",
     "collapsed": false,
     "input": [
      "arr.sort() # sort method will modify the original array"
     ],
     "language": "python",
     "metadata": {},
     "outputs": [],
     "prompt_number": 78
    },
    {
     "cell_type": "code",
     "collapsed": false,
     "input": [
      "arr"
     ],
     "language": "python",
     "metadata": {},
     "outputs": [
      {
       "metadata": {},
       "output_type": "pyout",
       "prompt_number": 79,
       "text": [
        "array([ 1, 13, 28, 37, 40, 62, 79, 92, 95, 99])"
       ]
      }
     ],
     "prompt_number": 79
    },
    {
     "cell_type": "code",
     "collapsed": false,
     "input": [
      "arr2 = np.random.rand(100)"
     ],
     "language": "python",
     "metadata": {},
     "outputs": [],
     "prompt_number": 80
    },
    {
     "cell_type": "code",
     "collapsed": false,
     "input": [
      "arr2[5] = np.nan"
     ],
     "language": "python",
     "metadata": {},
     "outputs": [],
     "prompt_number": 81
    },
    {
     "cell_type": "code",
     "collapsed": false,
     "input": [
      "print (np.max(arr2))"
     ],
     "language": "python",
     "metadata": {},
     "outputs": [
      {
       "output_type": "stream",
       "stream": "stdout",
       "text": [
        "nan\n"
       ]
      }
     ],
     "prompt_number": 93
    },
    {
     "cell_type": "code",
     "collapsed": false,
     "input": [
      "print (np.nanmax(arr2))"
     ],
     "language": "python",
     "metadata": {},
     "outputs": [
      {
       "output_type": "stream",
       "stream": "stdout",
       "text": [
        "0.995970660214\n"
       ]
      }
     ],
     "prompt_number": 94
    },
    {
     "cell_type": "code",
     "collapsed": false,
     "input": [],
     "language": "python",
     "metadata": {},
     "outputs": []
    },
    {
     "cell_type": "code",
     "collapsed": false,
     "input": [
      "array = np.random.rand(10000).reshape((100, 100))"
     ],
     "language": "python",
     "metadata": {},
     "outputs": [],
     "prompt_number": 126
    },
    {
     "cell_type": "code",
     "collapsed": false,
     "input": [
      "rind = np.random.randint(2, size=(100, 100)) == 1"
     ],
     "language": "python",
     "metadata": {},
     "outputs": [],
     "prompt_number": 127
    },
    {
     "cell_type": "code",
     "collapsed": false,
     "input": [
      "array[rind] = np.nan"
     ],
     "language": "python",
     "metadata": {},
     "outputs": [],
     "prompt_number": 128
    },
    {
     "cell_type": "code",
     "collapsed": false,
     "input": [
      "array"
     ],
     "language": "python",
     "metadata": {},
     "outputs": [
      {
       "metadata": {},
       "output_type": "pyout",
       "prompt_number": 129,
       "text": [
        "array([[        nan,         nan,  0.48518383, ...,         nan,\n",
        "                nan,  0.679446  ],\n",
        "       [ 0.08100106,         nan,  0.51146336, ...,  0.31513512,\n",
        "         0.5772404 ,         nan],\n",
        "       [        nan,         nan,         nan, ...,         nan,\n",
        "                nan,  0.41189887],\n",
        "       ..., \n",
        "       [ 0.10219655,         nan,         nan, ...,         nan,\n",
        "                nan,         nan],\n",
        "       [ 0.69439059,  0.19250829,  0.43462323, ...,  0.40563835,\n",
        "                nan,         nan],\n",
        "       [ 0.37450316,         nan,         nan, ...,         nan,\n",
        "                nan,         nan]])"
       ]
      }
     ],
     "prompt_number": 129
    },
    {
     "cell_type": "code",
     "collapsed": false,
     "input": [
      "not_nan = ~np.isnan(array)"
     ],
     "language": "python",
     "metadata": {},
     "outputs": [],
     "prompt_number": 132
    },
    {
     "cell_type": "code",
     "collapsed": true,
     "input": [
      "not_nan"
     ],
     "language": "python",
     "metadata": {},
     "outputs": [
      {
       "metadata": {},
       "output_type": "pyout",
       "prompt_number": 133,
       "text": [
        "array([[False, False,  True, ..., False, False,  True],\n",
        "       [ True, False,  True, ...,  True,  True, False],\n",
        "       [False, False, False, ..., False, False,  True],\n",
        "       ..., \n",
        "       [ True, False, False, ..., False, False, False],\n",
        "       [ True,  True,  True, ...,  True, False, False],\n",
        "       [ True, False, False, ..., False, False, False]], dtype=bool)"
       ]
      }
     ],
     "prompt_number": 133
    },
    {
     "cell_type": "code",
     "collapsed": false,
     "input": [
      "print np.std(array[not_nan])"
     ],
     "language": "python",
     "metadata": {},
     "outputs": [
      {
       "output_type": "stream",
       "stream": "stdout",
       "text": [
        "0.286203292778\n"
       ]
      }
     ],
     "prompt_number": 134
    },
    {
     "cell_type": "markdown",
     "metadata": {},
     "source": [
      "## Linear Algebra\n",
      "\n",
      "Solving:\n",
      "\n",
      "$$\n",
      "\\left[\n",
      "\\begin{array}{ccc}\n",
      "3 & 6  & -5 \\\\\n",
      "1 & -3 & 2  \\\\\n",
      "5 & -1 & 4  \\\\\n",
      "\\end{array}\n",
      "\\right]\n",
      "\\left[\n",
      "\\begin{array}{c}\n",
      "x \\\\\n",
      "y \\\\\n",
      "z \\\\\n",
      "\\end{array}\n",
      "\\right]\n",
      " = \\left [ \n",
      "\\begin{array}{c}\n",
      "12 \\\\\n",
      "-2 \\\\\n",
      "10\n",
      "\\end{array}\n",
      "\\right ]\n",
      "$$"
     ]
    },
    {
     "cell_type": "code",
     "collapsed": false,
     "input": [
      "A = np.matrix([[3, 6, -5], [1, -3, 2], [5, -1, 4]])"
     ],
     "language": "python",
     "metadata": {},
     "outputs": [],
     "prompt_number": 140
    },
    {
     "cell_type": "code",
     "collapsed": false,
     "input": [
      "B = np.matrix([[12], [-2], [10]])"
     ],
     "language": "python",
     "metadata": {},
     "outputs": [],
     "prompt_number": 141
    },
    {
     "cell_type": "code",
     "collapsed": false,
     "input": [
      "X = A**(-1) * B"
     ],
     "language": "python",
     "metadata": {},
     "outputs": [],
     "prompt_number": 142
    },
    {
     "cell_type": "code",
     "collapsed": false,
     "input": [
      "X"
     ],
     "language": "python",
     "metadata": {},
     "outputs": [
      {
       "metadata": {},
       "output_type": "pyout",
       "prompt_number": 143,
       "text": [
        "matrix([[ 1.75],\n",
        "        [ 1.75],\n",
        "        [ 0.75]])"
       ]
      }
     ],
     "prompt_number": 143
    },
    {
     "cell_type": "code",
     "collapsed": false,
     "input": [
      "A * X"
     ],
     "language": "python",
     "metadata": {},
     "outputs": [
      {
       "metadata": {},
       "output_type": "pyout",
       "prompt_number": 144,
       "text": [
        "matrix([[ 12.],\n",
        "        [ -2.],\n",
        "        [ 10.]])"
       ]
      }
     ],
     "prompt_number": 144
    },
    {
     "cell_type": "markdown",
     "metadata": {},
     "source": [
      "Other way to solve above linear system with numpy (but more efficient)."
     ]
    },
    {
     "cell_type": "code",
     "collapsed": false,
     "input": [
      "A = np.array([[3, 6, -5], [1, -3, 2], [5, -1, 4]])\n",
      "\n",
      "B = np.array([[12], [-2], [10]])"
     ],
     "language": "python",
     "metadata": {},
     "outputs": [],
     "prompt_number": 151
    },
    {
     "cell_type": "code",
     "collapsed": false,
     "input": [
      "X = np.linalg.inv(A).dot(B)"
     ],
     "language": "python",
     "metadata": {},
     "outputs": [],
     "prompt_number": 152
    },
    {
     "cell_type": "code",
     "collapsed": false,
     "input": [
      "X"
     ],
     "language": "python",
     "metadata": {},
     "outputs": [
      {
       "metadata": {},
       "output_type": "pyout",
       "prompt_number": 153,
       "text": [
        "array([[ 1.75],\n",
        "       [ 1.75],\n",
        "       [ 0.75]])"
       ]
      }
     ],
     "prompt_number": 153
    },
    {
     "cell_type": "code",
     "collapsed": false,
     "input": [],
     "language": "python",
     "metadata": {},
     "outputs": []
    },
    {
     "cell_type": "code",
     "collapsed": false,
     "input": [
      "a = np.random.rand(10)\n",
      "print a\n",
      "np.random.permutation(a) # premutation will not affect a"
     ],
     "language": "python",
     "metadata": {},
     "outputs": [
      {
       "output_type": "stream",
       "stream": "stdout",
       "text": [
        "[ 0.83136699  0.17668344  0.84414836  0.37888314  0.21069029  0.31384797\n",
        "  0.76134434  0.46656456  0.07980981  0.625698  ]\n"
       ]
      },
      {
       "metadata": {},
       "output_type": "pyout",
       "prompt_number": 162,
       "text": [
        "array([ 0.46656456,  0.17668344,  0.83136699,  0.625698  ,  0.31384797,\n",
        "        0.76134434,  0.37888314,  0.84414836,  0.07980981,  0.21069029])"
       ]
      }
     ],
     "prompt_number": 162
    },
    {
     "cell_type": "code",
     "collapsed": false,
     "input": [
      "a = np.random.x"
     ],
     "language": "python",
     "metadata": {},
     "outputs": []
    },
    {
     "cell_type": "code",
     "collapsed": false,
     "input": [
      "a"
     ],
     "language": "python",
     "metadata": {},
     "outputs": [
      {
       "metadata": {},
       "output_type": "pyout",
       "prompt_number": 163,
       "text": [
        "array([ 0.83136699,  0.17668344,  0.84414836,  0.37888314,  0.21069029,\n",
        "        0.31384797,  0.76134434,  0.46656456,  0.07980981,  0.625698  ])"
       ]
      }
     ],
     "prompt_number": 163
    },
    {
     "cell_type": "code",
     "collapsed": false,
     "input": [
      "np.random.shuffle(a) # shuffle will affect a."
     ],
     "language": "python",
     "metadata": {},
     "outputs": [],
     "prompt_number": 164
    },
    {
     "cell_type": "code",
     "collapsed": false,
     "input": [
      "a"
     ],
     "language": "python",
     "metadata": {},
     "outputs": [
      {
       "metadata": {},
       "output_type": "pyout",
       "prompt_number": 165,
       "text": [
        "array([ 0.17668344,  0.84414836,  0.76134434,  0.37888314,  0.46656456,\n",
        "        0.625698  ,  0.21069029,  0.31384797,  0.83136699,  0.07980981])"
       ]
      }
     ],
     "prompt_number": 165
    },
    {
     "cell_type": "code",
     "collapsed": false,
     "input": [
      "def temp_and_rain(lat, min_temp = 10, max_temp = 10, points = 1000):\n",
      "    lat = np.abs(lat)\n",
      "    temp = np.random.normal(scale = 5, size = lat.shape) + lat/2\n",
      "    temp = np.abs(temp)\n",
      "    \n",
      "    tobe_ornot = np.random.randint(0, high = 2)\n",
      "    print tobe_ornot\n",
      "    \n",
      "    if tobe_ornot:\n",
      "        rain = np.random.normal(scale = 3, size=lat.shape) + temp * 2\n",
      "    else:\n",
      "        rain = np.random.uniform(high = 100, size = lat.shape)\n",
      "        \n",
      "    return temp, rain"
     ],
     "language": "python",
     "metadata": {},
     "outputs": [],
     "prompt_number": 169
    },
    {
     "cell_type": "code",
     "collapsed": false,
     "input": [
      "lat = np.random.uniform(low = -90, high = 90, size = 100)\n",
      "temp, rain = temp_and_rain(lat)"
     ],
     "language": "python",
     "metadata": {},
     "outputs": [
      {
       "output_type": "stream",
       "stream": "stdout",
       "text": [
        "1\n"
       ]
      }
     ],
     "prompt_number": 173
    },
    {
     "cell_type": "code",
     "collapsed": false,
     "input": [
      "result = np.corrcoef(temp, rain)"
     ],
     "language": "python",
     "metadata": {},
     "outputs": [],
     "prompt_number": 174
    },
    {
     "cell_type": "code",
     "collapsed": false,
     "input": [
      "result"
     ],
     "language": "python",
     "metadata": {},
     "outputs": [
      {
       "metadata": {},
       "output_type": "pyout",
       "prompt_number": 175,
       "text": [
        "array([[ 1.        ,  0.99473384],\n",
        "       [ 0.99473384,  1.        ]])"
       ]
      }
     ],
     "prompt_number": 175
    },
    {
     "cell_type": "code",
     "collapsed": false,
     "input": [
      "temp, rain = temp_and_rain(lat)"
     ],
     "language": "python",
     "metadata": {},
     "outputs": [
      {
       "output_type": "stream",
       "stream": "stdout",
       "text": [
        "0\n"
       ]
      }
     ],
     "prompt_number": 178
    },
    {
     "cell_type": "code",
     "collapsed": false,
     "input": [
      "result = np.corrcoef(temp, rain)\n",
      "result"
     ],
     "language": "python",
     "metadata": {},
     "outputs": [
      {
       "metadata": {},
       "output_type": "pyout",
       "prompt_number": 180,
       "text": [
        "array([[ 1.        ,  0.11359576],\n",
        "       [ 0.11359576,  1.        ]])"
       ]
      }
     ],
     "prompt_number": 180
    },
    {
     "cell_type": "code",
     "collapsed": false,
     "input": [
      "print np.histogram2d.__doc__"
     ],
     "language": "python",
     "metadata": {},
     "outputs": [
      {
       "output_type": "stream",
       "stream": "stdout",
       "text": [
        "\n",
        "    Compute the bi-dimensional histogram of two data samples.\n",
        "\n",
        "    Parameters\n",
        "    ----------\n",
        "    x : array_like, shape (N,)\n",
        "        An array containing the x coordinates of the points to be\n",
        "        histogrammed.\n",
        "    y : array_like, shape (N,)\n",
        "        An array containing the y coordinates of the points to be\n",
        "        histogrammed.\n",
        "    bins : int or [int, int] or array_like or [array, array], optional\n",
        "        The bin specification:\n",
        "\n",
        "          * If int, the number of bins for the two dimensions (nx=ny=bins).\n",
        "          * If [int, int], the number of bins in each dimension\n",
        "            (nx, ny = bins).\n",
        "          * If array_like, the bin edges for the two dimensions\n",
        "            (x_edges=y_edges=bins).\n",
        "          * If [array, array], the bin edges in each dimension\n",
        "            (x_edges, y_edges = bins).\n",
        "\n",
        "    range : array_like, shape(2,2), optional\n",
        "        The leftmost and rightmost edges of the bins along each dimension\n",
        "        (if not specified explicitly in the `bins` parameters):\n",
        "        ``[[xmin, xmax], [ymin, ymax]]``. All values outside of this range\n",
        "        will be considered outliers and not tallied in the histogram.\n",
        "    normed : bool, optional\n",
        "        If False, returns the number of samples in each bin. If True,\n",
        "        returns the bin density ``bin_count / sample_count / bin_area``.\n",
        "    weights : array_like, shape(N,), optional\n",
        "        An array of values ``w_i`` weighing each sample ``(x_i, y_i)``.\n",
        "        Weights are normalized to 1 if `normed` is True. If `normed` is\n",
        "        False, the values of the returned histogram are equal to the sum of\n",
        "        the weights belonging to the samples falling into each bin.\n",
        "\n",
        "    Returns\n",
        "    -------\n",
        "    H : ndarray, shape(nx, ny)\n",
        "        The bi-dimensional histogram of samples `x` and `y`. Values in `x`\n",
        "        are histogrammed along the first dimension and values in `y` are\n",
        "        histogrammed along the second dimension.\n",
        "    xedges : ndarray, shape(nx,)\n",
        "        The bin edges along the first dimension.\n",
        "    yedges : ndarray, shape(ny,)\n",
        "        The bin edges along the second dimension.\n",
        "\n",
        "    See Also\n",
        "    --------\n",
        "    histogram : 1D histogram\n",
        "    histogramdd : Multidimensional histogram\n",
        "\n",
        "    Notes\n",
        "    -----\n",
        "    When `normed` is True, then the returned histogram is the sample\n",
        "    density, defined such that the sum over bins of the product\n",
        "    ``bin_value * bin_area`` is 1.\n",
        "\n",
        "    Please note that the histogram does not follow the Cartesian convention\n",
        "    where `x` values are on the abscissa and `y` values on the ordinate\n",
        "    axis.  Rather, `x` is histogrammed along the first dimension of the\n",
        "    array (vertical), and `y` along the second dimension of the array\n",
        "    (horizontal).  This ensures compatibility with `histogramdd`.\n",
        "\n",
        "    Examples\n",
        "    --------\n",
        "    >>> import matplotlib as mpl\n",
        "    >>> import matplotlib.pyplot as plt\n",
        "\n",
        "    Construct a 2D-histogram with variable bin width. First define the bin\n",
        "    edges:\n",
        "\n",
        "    >>> xedges = [0, 1, 1.5, 3, 5]\n",
        "    >>> yedges = [0, 2, 3, 4, 6]\n",
        "\n",
        "    Next we create a histogram H with random bin content:\n",
        "\n",
        "    >>> x = np.random.normal(3, 1, 100)\n",
        "    >>> y = np.random.normal(1, 1, 100)\n",
        "    >>> H, xedges, yedges = np.histogram2d(y, x, bins=(xedges, yedges))\n",
        "\n",
        "    Or we fill the histogram H with a determined bin content:\n",
        "\n",
        "    >>> H = np.ones((4, 4)).cumsum().reshape(4, 4)\n",
        "    >>> print H[::-1]  # This shows the bin content in the order as plotted\n",
        "    [[ 13.  14.  15.  16.]\n",
        "     [  9.  10.  11.  12.]\n",
        "     [  5.   6.   7.   8.]\n",
        "     [  1.   2.   3.   4.]]\n",
        "\n",
        "    Imshow can only do an equidistant representation of bins:\n",
        "\n",
        "    >>> fig = plt.figure(figsize=(7, 3))\n",
        "    >>> ax = fig.add_subplot(131)\n",
        "    >>> ax.set_title('imshow: equidistant')\n",
        "    >>> im = plt.imshow(H, interpolation='nearest', origin='low',\n",
        "                    extent=[xedges[0], xedges[-1], yedges[0], yedges[-1]])\n",
        "\n",
        "    pcolormesh can display exact bin edges:\n",
        "\n",
        "    >>> ax = fig.add_subplot(132)\n",
        "    >>> ax.set_title('pcolormesh: exact bin edges')\n",
        "    >>> X, Y = np.meshgrid(xedges, yedges)\n",
        "    >>> ax.pcolormesh(X, Y, H)\n",
        "    >>> ax.set_aspect('equal')\n",
        "\n",
        "    NonUniformImage displays exact bin edges with interpolation:\n",
        "\n",
        "    >>> ax = fig.add_subplot(133)\n",
        "    >>> ax.set_title('NonUniformImage: interpolated')\n",
        "    >>> im = mpl.image.NonUniformImage(ax, interpolation='bilinear')\n",
        "    >>> xcenters = xedges[:-1] + 0.5 * (xedges[1:] - xedges[:-1])\n",
        "    >>> ycenters = yedges[:-1] + 0.5 * (yedges[1:] - yedges[:-1])\n",
        "    >>> im.set_data(xcenters, ycenters, H)\n",
        "    >>> ax.images.append(im)\n",
        "    >>> ax.set_xlim(xedges[0], xedges[-1])\n",
        "    >>> ax.set_ylim(yedges[0], yedges[-1])\n",
        "    >>> ax.set_aspect('equal')\n",
        "    >>> plt.show()\n",
        "\n",
        "    \n"
       ]
      }
     ],
     "prompt_number": 190
    },
    {
     "cell_type": "code",
     "collapsed": false,
     "input": [
      "import matplotlib.pyplot as plt\n",
      "\n",
      "# Generate 2 by 1000000 array by normal dist and assign rows to x, y respectively.\n",
      "x, y = np.random.randn(2, 1000000)\n",
      "\n",
      "img, xedges, yedges = np.histogram2d(x, y, bins = (20, 20))\n",
      "\n",
      "# For imshow. (Define the extend of x and y axis)\n",
      "extent = [yedges[0], yedges[-1], xedges[0], xedges[-1]]\n",
      "\n",
      "fig = plt.figure(figsize = (10, 5))\n",
      "ax1 = fig.add_subplot(121) # 1 by 2 plot's subplot 1\n",
      "ax2 = fig.add_subplot(122) # 1 by 2 plot's subplot 2\n",
      "\n",
      "yarg = plt.cm.gist_yarg # plt.cm: color maps module\n",
      "\n",
      "ax1.imshow(img, extent = extent, interpolation='nearest', cmap=yarg, origin='lower left')\n",
      "ax2.hexbin(x, y, gridsize=20, cmap=yarg)\n",
      "\n",
      "ax1.set_title(\"Rectangular binning\")\n",
      "ax2.set_title(\"Hexagonal binning\")\n",
      "\n",
      "ax1.set_xlim(-4, 4)\n",
      "ax1.set_ylim(-4, 4)\n",
      "ax2.set_xlim(-4, 4)\n",
      "ax2.set_ylim(-4, 4)\n",
      "\n",
      "ax1.set_aspect(\"equal\")\n",
      "ax2.set_aspect(\"equal\")"
     ],
     "language": "python",
     "metadata": {},
     "outputs": [
      {
       "metadata": {},
       "output_type": "display_data",
       "png": "[encoded data removed]",
       "text": [
        "<matplotlib.figure.Figure at 0x12ca403d0>"
       ]
      }
     ],
     "prompt_number": 206
    },
    {
     "cell_type": "code",
     "collapsed": false,
     "input": [
      "fig.savefig(\"binning.png\")"
     ],
     "language": "python",
     "metadata": {},
     "outputs": [],
     "prompt_number": 208
    },
    {
     "cell_type": "code",
     "collapsed": false,
     "input": [],
     "language": "python",
     "metadata": {},
     "outputs": []
    },
    {
     "cell_type": "markdown",
     "metadata": {},
     "source": [
      "## Polynomial"
     ]
    },
    {
     "cell_type": "code",
     "collapsed": false,
     "input": [],
     "language": "python",
     "metadata": {},
     "outputs": []
    }
   ],
   "metadata": {}
  }
 ]
}